{
 "cells": [
  {
   "cell_type": "code",
   "execution_count": 2,
   "metadata": {
    "collapsed": false,
    "ExecuteTime": {
     "end_time": "2024-02-29T16:13:05.988590173Z",
     "start_time": "2024-02-29T16:13:05.161626422Z"
    }
   },
   "outputs": [],
   "source": [
    "import pandas as pd\n",
    "import tokenizers\n",
    "import requests \n",
    "import json \n",
    "import os\n",
    "import spacy"
   ]
  },
  {
   "cell_type": "code",
   "execution_count": 4,
   "metadata": {
    "collapsed": false,
    "ExecuteTime": {
     "end_time": "2024-02-29T16:15:35.542013069Z",
     "start_time": "2024-02-29T16:15:35.453944554Z"
    }
   },
   "outputs": [],
   "source": [
    "final_df = pd.DataFrame()\n",
    "for relation_file in os.listdir(\"data/relations\"):\n",
    "    df = pd.read_parquet(f\"data/relations/{relation_file}\")\n",
    "    final_df = pd.concat([final_df, df])"
   ]
  },
  {
   "cell_type": "code",
   "execution_count": 5,
   "metadata": {
    "collapsed": false,
    "ExecuteTime": {
     "end_time": "2024-02-29T16:15:36.876428476Z",
     "start_time": "2024-02-29T16:15:36.867917769Z"
    }
   },
   "outputs": [],
   "source": [
    "final_df.index = range(len(final_df))"
   ]
  },
  {
   "cell_type": "code",
   "execution_count": 6,
   "metadata": {
    "collapsed": true,
    "ExecuteTime": {
     "end_time": "2024-02-29T16:15:37.278187938Z",
     "start_time": "2024-02-29T16:15:37.266977678Z"
    }
   },
   "outputs": [
    {
     "data": {
      "text/plain": "    id                                               text  \\\n0  7.0  Finance Minister Mark\\nEyskens, who currently ...   \n1  1.0  Bank governor Chang Chi-Cheng told reporters t...   \n2  2.0  He said the rise showed signs of slowing, howe...   \n3  3.0  Chang declined to predict how high the reserve...   \n4  4.0  In January, Taiwan reduced import tariffs of u...   \n\n                     entity                                       object  \\\n0     Minister_Mark_Eyskens                                        issue   \n1  governor_Chang_Chi_Cheng                                    reporters   \n2                    Taiwan                                import_policy   \n3                     Chang  to_predict_how_high_the_reserves_might_rise   \n4                    Taiwan                               import_tariffs   \n\n          relation                                          title  \n0       has_called   BELGIAN ECU COIN ISSUE PRICED, SALE DATE SET  \n1             told  TAIWAN FOREIGN EXCHANGE RESERVES HIT NEW HIGH  \n2  has_liberalised  TAIWAN FOREIGN EXCHANGE RESERVES HIT NEW HIGH  \n3         declined  TAIWAN FOREIGN EXCHANGE RESERVES HIT NEW HIGH  \n4          reduced  TAIWAN FOREIGN EXCHANGE RESERVES HIT NEW HIGH  ",
      "text/html": "<div>\n<style scoped>\n    .dataframe tbody tr th:only-of-type {\n        vertical-align: middle;\n    }\n\n    .dataframe tbody tr th {\n        vertical-align: top;\n    }\n\n    .dataframe thead th {\n        text-align: right;\n    }\n</style>\n<table border=\"1\" class=\"dataframe\">\n  <thead>\n    <tr style=\"text-align: right;\">\n      <th></th>\n      <th>id</th>\n      <th>text</th>\n      <th>entity</th>\n      <th>object</th>\n      <th>relation</th>\n      <th>title</th>\n    </tr>\n  </thead>\n  <tbody>\n    <tr>\n      <th>0</th>\n      <td>7.0</td>\n      <td>Finance Minister Mark\\nEyskens, who currently ...</td>\n      <td>Minister_Mark_Eyskens</td>\n      <td>issue</td>\n      <td>has_called</td>\n      <td>BELGIAN ECU COIN ISSUE PRICED, SALE DATE SET</td>\n    </tr>\n    <tr>\n      <th>1</th>\n      <td>1.0</td>\n      <td>Bank governor Chang Chi-Cheng told reporters t...</td>\n      <td>governor_Chang_Chi_Cheng</td>\n      <td>reporters</td>\n      <td>told</td>\n      <td>TAIWAN FOREIGN EXCHANGE RESERVES HIT NEW HIGH</td>\n    </tr>\n    <tr>\n      <th>2</th>\n      <td>2.0</td>\n      <td>He said the rise showed signs of slowing, howe...</td>\n      <td>Taiwan</td>\n      <td>import_policy</td>\n      <td>has_liberalised</td>\n      <td>TAIWAN FOREIGN EXCHANGE RESERVES HIT NEW HIGH</td>\n    </tr>\n    <tr>\n      <th>3</th>\n      <td>3.0</td>\n      <td>Chang declined to predict how high the reserve...</td>\n      <td>Chang</td>\n      <td>to_predict_how_high_the_reserves_might_rise</td>\n      <td>declined</td>\n      <td>TAIWAN FOREIGN EXCHANGE RESERVES HIT NEW HIGH</td>\n    </tr>\n    <tr>\n      <th>4</th>\n      <td>4.0</td>\n      <td>In January, Taiwan reduced import tariffs of u...</td>\n      <td>Taiwan</td>\n      <td>import_tariffs</td>\n      <td>reduced</td>\n      <td>TAIWAN FOREIGN EXCHANGE RESERVES HIT NEW HIGH</td>\n    </tr>\n  </tbody>\n</table>\n</div>"
     },
     "execution_count": 6,
     "metadata": {},
     "output_type": "execute_result"
    }
   ],
   "source": [
    "final_df.head()"
   ]
  },
  {
   "cell_type": "code",
   "execution_count": 7,
   "metadata": {
    "collapsed": false,
    "ExecuteTime": {
     "end_time": "2024-02-29T16:15:39.874916058Z",
     "start_time": "2024-02-29T16:15:37.678948007Z"
    }
   },
   "outputs": [],
   "source": [
    "nlp = spacy.load(\"en_core_web_lg\")"
   ]
  },
  {
   "cell_type": "code",
   "execution_count": 8,
   "metadata": {
    "collapsed": false,
    "ExecuteTime": {
     "end_time": "2024-02-29T16:16:39.841151529Z",
     "start_time": "2024-02-29T16:15:39.880524253Z"
    }
   },
   "outputs": [],
   "source": [
    "noun_indexes = []\n",
    "new_objs = []\n",
    "for index, row in final_df.iterrows():\n",
    "    cleaned = [c for c in row[\"object\"].split(\"_\") if c not in [\"Reuter\", \"Reuters\", \"REUTER\", \"REUTERS\", \"reuter\", \"reuters\"]]\n",
    "    cleaned = \" \".join(cleaned)\n",
    "    doc = nlp(cleaned)\n",
    "    nouns = []\n",
    "    for d in doc:\n",
    "        if d.tag_ in [\"NNP\", \"NNPS\"]:\n",
    "            if index not in noun_indexes:\n",
    "                noun_indexes.append(index)\n",
    "            noun = str(d.text)\n",
    "            if noun not in nouns:\n",
    "                nouns.append(noun)\n",
    "    if nouns:\n",
    "        new_objs.append(\" \".join(nouns))"
   ]
  },
  {
   "cell_type": "code",
   "execution_count": 9,
   "metadata": {
    "collapsed": false,
    "ExecuteTime": {
     "end_time": "2024-02-29T16:16:39.841604899Z",
     "start_time": "2024-02-29T16:16:39.840654788Z"
    }
   },
   "outputs": [],
   "source": [
    "clean_df = final_df[final_df.index.isin(noun_indexes)]"
   ]
  },
  {
   "cell_type": "code",
   "execution_count": 10,
   "metadata": {
    "ExecuteTime": {
     "end_time": "2024-02-29T16:16:39.930495125Z",
     "start_time": "2024-02-29T16:16:39.841497179Z"
    }
   },
   "outputs": [],
   "source": [
    "clean_entities = []\n",
    "\n",
    "for index, row in clean_df.iterrows():\n",
    "    cleaned = \" \".join([x for x in row[\"entity\"].split(\"_\") if x not in [\"Reuter\", \"Reuters\", \"REUTER\", \"REUTERS\", \"reuter\", \"reuters\"] ])\n",
    "    clean_entities.append(cleaned)"
   ]
  },
  {
   "cell_type": "code",
   "execution_count": 11,
   "metadata": {
    "ExecuteTime": {
     "end_time": "2024-02-29T16:16:39.934226349Z",
     "start_time": "2024-02-29T16:16:39.931336416Z"
    }
   },
   "outputs": [
    {
     "data": {
      "text/plain": "4196"
     },
     "execution_count": 11,
     "metadata": {},
     "output_type": "execute_result"
    }
   ],
   "source": [
    "len(noun_indexes)"
   ]
  },
  {
   "cell_type": "code",
   "execution_count": 12,
   "metadata": {
    "collapsed": false,
    "ExecuteTime": {
     "end_time": "2024-02-29T16:16:39.939361005Z",
     "start_time": "2024-02-29T16:16:39.934709170Z"
    }
   },
   "outputs": [
    {
     "name": "stderr",
     "output_type": "stream",
     "text": [
      "/tmp/ipykernel_238405/3223740866.py:1: SettingWithCopyWarning: \n",
      "A value is trying to be set on a copy of a slice from a DataFrame.\n",
      "Try using .loc[row_indexer,col_indexer] = value instead\n",
      "\n",
      "See the caveats in the documentation: https://pandas.pydata.org/pandas-docs/stable/user_guide/indexing.html#returning-a-view-versus-a-copy\n",
      "  clean_df[\"clean_entities\"] = clean_entities\n"
     ]
    }
   ],
   "source": [
    "clean_df[\"clean_entities\"] = clean_entities"
   ]
  },
  {
   "cell_type": "code",
   "execution_count": 13,
   "metadata": {
    "ExecuteTime": {
     "end_time": "2024-02-29T16:16:40.008231751Z",
     "start_time": "2024-02-29T16:16:39.941155646Z"
    }
   },
   "outputs": [
    {
     "data": {
      "text/plain": "4196"
     },
     "execution_count": 13,
     "metadata": {},
     "output_type": "execute_result"
    }
   ],
   "source": [
    "len(clean_df)"
   ]
  },
  {
   "cell_type": "code",
   "execution_count": 14,
   "metadata": {
    "collapsed": false,
    "ExecuteTime": {
     "end_time": "2024-02-29T16:16:40.009034181Z",
     "start_time": "2024-02-29T16:16:39.987734461Z"
    }
   },
   "outputs": [
    {
     "name": "stderr",
     "output_type": "stream",
     "text": [
      "/tmp/ipykernel_238405/2790167468.py:1: SettingWithCopyWarning: \n",
      "A value is trying to be set on a copy of a slice from a DataFrame.\n",
      "Try using .loc[row_indexer,col_indexer] = value instead\n",
      "\n",
      "See the caveats in the documentation: https://pandas.pydata.org/pandas-docs/stable/user_guide/indexing.html#returning-a-view-versus-a-copy\n",
      "  clean_df[\"object_noun\"] = new_objs\n"
     ]
    }
   ],
   "source": [
    "clean_df[\"object_noun\"] = new_objs"
   ]
  },
  {
   "cell_type": "code",
   "execution_count": 15,
   "metadata": {
    "collapsed": false,
    "ExecuteTime": {
     "end_time": "2024-02-29T16:16:40.009237262Z",
     "start_time": "2024-02-29T16:16:39.988294162Z"
    }
   },
   "outputs": [],
   "source": [
    "def change_verb_tense(pair, new_tense):\n",
    "    try:\n",
    "        verb = pair.split(\"_\")[-1]\n",
    "        assert new_tense in [\"past\", \"present\", \"future\"]\n",
    "        json_obj = {\"verb\": verb, \"tense\": new_tense}\n",
    "\n",
    "        url = \"http://localhost:5600/change\" \n",
    "    \n",
    "        res = requests.post(url, json=json_obj)\n",
    "        new_verb = res.json()\n",
    "    except AssertionError:\n",
    "        print(f\"Tense is 'past', 'present' or 'future'\\nYou entered: {new_tense}\")\n",
    "        new_verb = None \n",
    "    except:\n",
    "        new_verb = \"error\"\n",
    "    return new_verb\n",
    "    \n"
   ]
  },
  {
   "cell_type": "code",
   "execution_count": 16,
   "metadata": {
    "collapsed": false,
    "ExecuteTime": {
     "end_time": "2024-02-29T16:20:15.690389203Z",
     "start_time": "2024-02-29T16:16:39.988650212Z"
    }
   },
   "outputs": [],
   "source": [
    "past_verb_obj = []\n",
    "\n",
    "for verb in clean_df['relation']:\n",
    "\n",
    "    new_verb = change_verb_tense(verb, \"past\")\n",
    "    past_verb_obj.append(new_verb)"
   ]
  },
  {
   "cell_type": "code",
   "execution_count": 17,
   "metadata": {
    "collapsed": false,
    "ExecuteTime": {
     "end_time": "2024-02-29T16:20:15.731498481Z",
     "start_time": "2024-02-29T16:20:15.730735861Z"
    }
   },
   "outputs": [
    {
     "data": {
      "text/plain": "['backed',\n 'asked',\n 'appeared',\n 'had',\n 'launched',\n 'issued',\n 'told',\n 'held',\n 'decided',\n 'hailed']"
     },
     "execution_count": 17,
     "metadata": {},
     "output_type": "execute_result"
    }
   ],
   "source": [
    "past_verb_obj[0:10]"
   ]
  },
  {
   "cell_type": "code",
   "execution_count": 18,
   "metadata": {
    "ExecuteTime": {
     "end_time": "2024-02-29T16:23:51.917421825Z",
     "start_time": "2024-02-29T16:20:15.731316741Z"
    }
   },
   "outputs": [],
   "source": [
    "present_verb_obj = []\n",
    "\n",
    "for verb in clean_df['relation']:\n",
    "\n",
    "    new_verb = change_verb_tense(verb, \"present\")\n",
    "    present_verb_obj.append(new_verb)"
   ]
  },
  {
   "cell_type": "code",
   "execution_count": 19,
   "metadata": {
    "ExecuteTime": {
     "end_time": "2024-02-29T16:27:25.996904332Z",
     "start_time": "2024-02-29T16:23:51.960609207Z"
    }
   },
   "outputs": [],
   "source": [
    "future_verb_obj = []\n",
    "\n",
    "for verb in clean_df['relation']:\n",
    "\n",
    "    new_verb = change_verb_tense(verb, \"future\")\n",
    "    future_verb_obj.append(new_verb)"
   ]
  },
  {
   "cell_type": "code",
   "execution_count": 20,
   "metadata": {
    "ExecuteTime": {
     "end_time": "2024-02-29T16:27:26.037817133Z",
     "start_time": "2024-02-29T16:27:26.037430472Z"
    }
   },
   "outputs": [
    {
     "name": "stderr",
     "output_type": "stream",
     "text": [
      "/tmp/ipykernel_238405/403858188.py:1: SettingWithCopyWarning: \n",
      "A value is trying to be set on a copy of a slice from a DataFrame.\n",
      "Try using .loc[row_indexer,col_indexer] = value instead\n",
      "\n",
      "See the caveats in the documentation: https://pandas.pydata.org/pandas-docs/stable/user_guide/indexing.html#returning-a-view-versus-a-copy\n",
      "  clean_df[\"relation_past\"] = past_verb_obj\n",
      "/tmp/ipykernel_238405/403858188.py:2: SettingWithCopyWarning: \n",
      "A value is trying to be set on a copy of a slice from a DataFrame.\n",
      "Try using .loc[row_indexer,col_indexer] = value instead\n",
      "\n",
      "See the caveats in the documentation: https://pandas.pydata.org/pandas-docs/stable/user_guide/indexing.html#returning-a-view-versus-a-copy\n",
      "  clean_df[\"relation_present\"] = present_verb_obj\n",
      "/tmp/ipykernel_238405/403858188.py:3: SettingWithCopyWarning: \n",
      "A value is trying to be set on a copy of a slice from a DataFrame.\n",
      "Try using .loc[row_indexer,col_indexer] = value instead\n",
      "\n",
      "See the caveats in the documentation: https://pandas.pydata.org/pandas-docs/stable/user_guide/indexing.html#returning-a-view-versus-a-copy\n",
      "  clean_df[\"relation_future\"] = future_verb_obj\n"
     ]
    }
   ],
   "source": [
    "clean_df[\"relation_past\"] = past_verb_obj\n",
    "clean_df[\"relation_present\"] = present_verb_obj\n",
    "clean_df[\"relation_future\"] = future_verb_obj"
   ]
  },
  {
   "cell_type": "code",
   "execution_count": 21,
   "metadata": {
    "ExecuteTime": {
     "end_time": "2024-02-29T16:27:26.038671313Z",
     "start_time": "2024-02-29T16:27:26.038058163Z"
    }
   },
   "outputs": [
    {
     "name": "stderr",
     "output_type": "stream",
     "text": [
      "/tmp/ipykernel_238405/447134457.py:1: SettingWithCopyWarning: \n",
      "A value is trying to be set on a copy of a slice from a DataFrame\n",
      "\n",
      "See the caveats in the documentation: https://pandas.pydata.org/pandas-docs/stable/user_guide/indexing.html#returning-a-view-versus-a-copy\n",
      "  clean_df.drop_duplicates(inplace=True)\n"
     ]
    }
   ],
   "source": [
    "clean_df.drop_duplicates(inplace=True)"
   ]
  },
  {
   "cell_type": "code",
   "execution_count": 22,
   "metadata": {
    "ExecuteTime": {
     "end_time": "2024-02-29T16:27:26.039057974Z",
     "start_time": "2024-02-29T16:27:26.038435943Z"
    }
   },
   "outputs": [
    {
     "data": {
      "text/plain": "4050"
     },
     "execution_count": 22,
     "metadata": {},
     "output_type": "execute_result"
    }
   ],
   "source": [
    "len(clean_df)"
   ]
  },
  {
   "cell_type": "code",
   "execution_count": 24,
   "metadata": {
    "ExecuteTime": {
     "end_time": "2024-02-29T16:32:36.518113954Z",
     "start_time": "2024-02-29T16:32:36.477052314Z"
    }
   },
   "outputs": [],
   "source": [
    "clean_df = clean_df[clean_df['relation_past'] != \"error\"]\n",
    "clean_df = clean_df[clean_df['relation_present'] != \"error\"]"
   ]
  },
  {
   "cell_type": "code",
   "execution_count": 25,
   "metadata": {
    "collapsed": false,
    "ExecuteTime": {
     "end_time": "2024-02-29T16:32:37.293447117Z",
     "start_time": "2024-02-29T16:32:37.287358700Z"
    }
   },
   "outputs": [
    {
     "name": "stdout",
     "output_type": "stream",
     "text": [
      "Wang Chang Ming told Reuters the government is\n",
      "planning another round of deep tariff cuts in the second half\n",
      "of this year.\n",
      "...\n"
     ]
    }
   ],
   "source": [
    "def get_relation_action(text, rel):\n",
    "    r_value = rel.split(\"_\")[-1]\n",
    "    t_list = text.split(\" \")\n",
    "    t_index = t_list.index(r_value)+1\n",
    "    action = \" \".join(t_list[t_index: ])\n",
    "    return action\n",
    "\n",
    "def build_context(text, rel, ent):\n",
    "    action = get_relation_action(text, rel)\n",
    "    print(f\"{' '.join(ent.split('_'))} {rel} {action}\")\n",
    "\n",
    "def build_answer(text, rel, obj, ent):\n",
    "    action = get_relation_action(text, rel)\n",
    "    action = action\\\n",
    "        .replace(obj, \" \")\\\n",
    "        .strip()\\\n",
    "        .replace(\"\\n\", \" \")\\\n",
    "        .replace(\"...\", \"\")\n",
    "    for ent in ent.split(\"_\"):\n",
    "        action = action.replace(ent, \" \")\n",
    "    print(f\"{action}\")\n",
    "\n",
    "build_context(text=\"Wang Chang-Ming, Vice Chairman of the Council for Economic\\nPlanning and Development, told Reuters the government is\\nplanning another round of deep tariff cuts in the second half\\nof this year.\\n...\", ent=\"Wang_Chang_Ming\", rel=\"told\")"
   ]
  },
  {
   "cell_type": "code",
   "execution_count": 26,
   "metadata": {
    "collapsed": false,
    "ExecuteTime": {
     "end_time": "2024-02-29T16:32:38.590381504Z",
     "start_time": "2024-02-29T16:32:38.581299666Z"
    }
   },
   "outputs": [
    {
     "name": "stdout",
     "output_type": "stream",
     "text": [
      "the government is planning another round of deep tariff cuts in the second half of this year. \n"
     ]
    }
   ],
   "source": [
    "build_answer(text=\"Wang Chang-Ming, Vice Chairman of the Council for Economic\\nPlanning and Development, told Reuters the government is\\nplanning another round of deep tariff cuts in the second half\\nof this year.\\n...\", rel=\"told\", obj=\"Reuters\", ent=\"Wang_Chang_Ming\")"
   ]
  },
  {
   "cell_type": "code",
   "execution_count": 27,
   "metadata": {
    "collapsed": false,
    "ExecuteTime": {
     "end_time": "2024-02-29T16:32:39.254374858Z",
     "start_time": "2024-02-29T16:32:39.247462832Z"
    }
   },
   "outputs": [
    {
     "data": {
      "text/plain": "4196"
     },
     "execution_count": 27,
     "metadata": {},
     "output_type": "execute_result"
    }
   ],
   "source": [
    "len(past_verb_obj)"
   ]
  },
  {
   "cell_type": "code",
   "execution_count": 28,
   "metadata": {
    "collapsed": false,
    "ExecuteTime": {
     "end_time": "2024-02-29T16:32:39.811370999Z",
     "start_time": "2024-02-29T16:32:39.806990995Z"
    }
   },
   "outputs": [],
   "source": [
    "clean_df['relation_future'] = [\"pay\" if x == \"paid\" else x for x in clean_df[\"relation_future\"]]"
   ]
  },
  {
   "cell_type": "code",
   "execution_count": 29,
   "metadata": {
    "ExecuteTime": {
     "end_time": "2024-02-29T16:32:40.197188933Z",
     "start_time": "2024-02-29T16:32:40.195549312Z"
    }
   },
   "outputs": [],
   "source": [
    "clean_df['relation_future'] = [\"rumor\" if x == \"rumore\" else x for x in clean_df[\"relation_future\"]]"
   ]
  },
  {
   "cell_type": "code",
   "execution_count": 30,
   "metadata": {
    "collapsed": false,
    "ExecuteTime": {
     "end_time": "2024-02-29T16:32:40.697072588Z",
     "start_time": "2024-02-29T16:32:40.642504076Z"
    }
   },
   "outputs": [
    {
     "data": {
      "text/plain": "'pay'"
     },
     "execution_count": 30,
     "metadata": {},
     "output_type": "execute_result"
    }
   ],
   "source": [
    "change_verb_tense(\"pay\", \"future\")"
   ]
  },
  {
   "cell_type": "code",
   "execution_count": 31,
   "metadata": {
    "ExecuteTime": {
     "end_time": "2024-02-29T16:32:55.003708122Z",
     "start_time": "2024-02-29T16:32:54.963054842Z"
    }
   },
   "outputs": [],
   "source": [
    "verb_wh_pairs  = pd.read_csv(\"data/future_token_counts.csv\", index_col=False)"
   ]
  },
  {
   "cell_type": "code",
   "execution_count": 32,
   "metadata": {
    "ExecuteTime": {
     "end_time": "2024-02-29T16:32:55.178965751Z",
     "start_time": "2024-02-29T16:32:55.172515495Z"
    }
   },
   "outputs": [],
   "source": [
    "verb_wh_pairs[\"token\"] = [x.strip() for x in verb_wh_pairs[\"token\"]]"
   ]
  },
  {
   "cell_type": "code",
   "execution_count": 33,
   "metadata": {
    "ExecuteTime": {
     "end_time": "2024-02-29T16:32:55.404533780Z",
     "start_time": "2024-02-29T16:32:55.399049494Z"
    }
   },
   "outputs": [],
   "source": [
    "verb_wh_pairs = verb_wh_pairs[verb_wh_pairs[\"token\"] != \"remove\"]"
   ]
  },
  {
   "cell_type": "code",
   "execution_count": 34,
   "metadata": {
    "ExecuteTime": {
     "end_time": "2024-02-29T16:32:55.576158157Z",
     "start_time": "2024-02-29T16:32:55.568764419Z"
    }
   },
   "outputs": [
    {
     "data": {
      "text/plain": "510"
     },
     "execution_count": 34,
     "metadata": {},
     "output_type": "execute_result"
    }
   ],
   "source": [
    "len(verb_wh_pairs)"
   ]
  },
  {
   "cell_type": "code",
   "execution_count": 35,
   "metadata": {
    "ExecuteTime": {
     "end_time": "2024-02-29T16:32:55.888536879Z",
     "start_time": "2024-02-29T16:32:55.860377022Z"
    }
   },
   "outputs": [
    {
     "data": {
      "text/plain": "         id                                               text  \\\n1856    0.0  Botswana has stopped importing almost\\nall mea...   \n5969    0.0  Zambia has stopped sending its copper\\nexports...   \n6624   11.0  Cairo stopped repaying Moscow for arms purchas...   \n6813   11.0  Cairo stopped repaying Moscow for arms purchas...   \n8048    1.0  Baldrige will also stop in Hong Kong to meet B...   \n12379   1.0  Peru, the world's second biggest silver produc...   \n14104   2.0  The company said deferrals of payment obligati...   \n14489  13.0  But Rafidain bank stopped paying debt due on l...   \n14519   1.0  <Ryoka Light Metal Industries Ltd> will stop s...   \n15586  12.0  \"\\n    An immediate goal is to get Shell to st...   \n15693   8.0  To entice U.S. Investors to fill the\\ngap that...   \n15971  11.0        Japan has stopped dumping chips in the U.S.   \n16204  11.0        Japan has stopped dumping chips in the U.S.   \n20942   5.0  But U.S. officials have said that while Japan ...   \n21006   1.0  Most U.S. firms stopped using financial subsid...   \n21617   0.0  The Pentagon has stopped approving\\nany new mi...   \n\n                                   entity  \\\n1856                             Botswana   \n5969                               Zambia   \n6624                                Cairo   \n6813                                Cairo   \n8048                             Baldrige   \n12379                                Peru   \n14104                              Zapata   \n14489                       Rafidain_bank   \n14519  Ryoka_Light_Metal_Industries_Ltd_>   \n15586                               Shell   \n15693                            Japanese   \n15971                               Japan   \n16204                               Japan   \n20942                               Japan   \n21006                          U.S._firms   \n21617                            Pentagon   \n\n                                                  object     relation  \\\n1856   importing_almost_\\n_all_meat_products_from_Zim...  has_stopped   \n5969   sending_its_copper_\\n_exports_through_South_Af...  has_stopped   \n6624   repaying_Moscow_for_arms_purchases_in_1977_\\n_...      stopped   \n6813   repaying_Moscow_for_arms_purchases_in_1977_\\n_...      stopped   \n8048   to_meet_British_\\n_officials_and_local_U.S._An...    will_stop   \n12379  selling_its_refined_silver_and_state_-_markete...      stopped   \n14104  paying_interest_on_the_debentures_in_April_\\n_...      stopped   \n14489  paying_debt_due_on_letters_of_\\n_credit_last_M...      stopped   \n14519                               smelting_in_\\n_April    will_stop   \n15586  selling_fuel_to_\\n_South_Afria_'s_military_and...      to_stop   \n15693                               buying_U.S._\\n_Bonds      stopped   \n15971                          dumping_chips_in_the_U.S.  has_stopped   \n16204                          dumping_chips_in_the_U.S.  has_stopped   \n20942                         dumping_in_the_U.S._market  has_stopped   \n21006  using_financial_subsidiaries_\\n_incorporated_i...      stopped   \n21617  approving_\\n_any_new_military_contracts_to_Jap...  has_stopped   \n\n                                                   title  \\\n1856   BOTSWANA BANS ZIMBABWE MEAT PRODUCTS, AGENCY SAYS   \n5969    ZAMBIA STOPS SENDING COPPER THROUGH SOUTH AFRICA   \n6624       EGYPT, SOVIETS TO RENEGOTIATE ARMS DEBT TERMS   \n6813   EGYPT, SOVIET UNION TO RENEGOTIATE ARMS DEBT T...   \n8048             BALDRIGE TO LAUNCH FAR EAST TRADE DRIVE   \n12379      PERU PRESIDENT WARNS OF RETALIATION ON SILVER   \n14104      ZAPATA <ZOS> WON'T PAY INTEREST ON DEBENTURES   \n14489       IRAQ DEFERS PAYMENTS ON 500 MLN DLR EUROLOAN   \n14519  NIPPON LIGHT METAL CONTINUES ALUMINIUM OUTPUT CUT   \n15586    ROYAL DUTCH <RD> OBJECT OF SHAREHOLDER CAMPAIGN   \n15693  TRADE WAR FEARS MAY PROMPT STOCK MARKETS' DOWN...   \n15971     U.S. MAY DROP TARIFFS IF JAPAN OPENS - YEUTTER   \n16204  U.S. MAY DROP TARIFFS IF JAPAN OPENS UP - YEUTTER   \n20942           UNIONIST URGES RETALIATION AGAINST JAPAN   \n21006    LIMITED IMPACT SEEN FROM U.S. TAX ACCORD ACTION   \n21617           PENTAGON STOPS NEW BUSINESS WITH TOSHIBA   \n\n                           clean_entities  \\\n1856                             Botswana   \n5969                               Zambia   \n6624                                Cairo   \n6813                                Cairo   \n8048                             Baldrige   \n12379                                Peru   \n14104                              Zapata   \n14489                       Rafidain bank   \n14519  Ryoka Light Metal Industries Ltd >   \n15586                               Shell   \n15693                            Japanese   \n15971                               Japan   \n16204                               Japan   \n20942                               Japan   \n21006                          U.S. firms   \n21617                            Pentagon   \n\n                                  object_noun relation_past relation_present  \\\n1856                                 Zimbabwe       stopped            stops   \n5969                             South Africa       stopped            stops   \n6624         Moscow president Anwar Sadat U.S       stopped            stops   \n6813         Moscow president Anwar Sadat U.S       stopped            stops   \n8048                           U.S. Hong Kong       stopped            stops   \n12379                                 tuesday       stopped            stops   \n14104                                   April       stopped            stops   \n14489                                   March       stopped            stops   \n14519                                   April       stopped            stops   \n15586                             South Afria       stopped            stops   \n15693                                    U.S.       stopped            stops   \n15971                                    U.S.       stopped            stops   \n16204                                    U.S.       stopped            stops   \n20942                                    U.S.       stopped            stops   \n21006               Netherlands Antilles July       stopped            stops   \n21617  Japan Toshiba Corp TSBA.T Soviet Union       stopped            stops   \n\n      relation_future  \n1856             stop  \n5969             stop  \n6624             stop  \n6813             stop  \n8048             stop  \n12379            stop  \n14104            stop  \n14489            stop  \n14519            stop  \n15586            stop  \n15693            stop  \n15971            stop  \n16204            stop  \n20942            stop  \n21006            stop  \n21617            stop  ",
      "text/html": "<div>\n<style scoped>\n    .dataframe tbody tr th:only-of-type {\n        vertical-align: middle;\n    }\n\n    .dataframe tbody tr th {\n        vertical-align: top;\n    }\n\n    .dataframe thead th {\n        text-align: right;\n    }\n</style>\n<table border=\"1\" class=\"dataframe\">\n  <thead>\n    <tr style=\"text-align: right;\">\n      <th></th>\n      <th>id</th>\n      <th>text</th>\n      <th>entity</th>\n      <th>object</th>\n      <th>relation</th>\n      <th>title</th>\n      <th>clean_entities</th>\n      <th>object_noun</th>\n      <th>relation_past</th>\n      <th>relation_present</th>\n      <th>relation_future</th>\n    </tr>\n  </thead>\n  <tbody>\n    <tr>\n      <th>1856</th>\n      <td>0.0</td>\n      <td>Botswana has stopped importing almost\\nall mea...</td>\n      <td>Botswana</td>\n      <td>importing_almost_\\n_all_meat_products_from_Zim...</td>\n      <td>has_stopped</td>\n      <td>BOTSWANA BANS ZIMBABWE MEAT PRODUCTS, AGENCY SAYS</td>\n      <td>Botswana</td>\n      <td>Zimbabwe</td>\n      <td>stopped</td>\n      <td>stops</td>\n      <td>stop</td>\n    </tr>\n    <tr>\n      <th>5969</th>\n      <td>0.0</td>\n      <td>Zambia has stopped sending its copper\\nexports...</td>\n      <td>Zambia</td>\n      <td>sending_its_copper_\\n_exports_through_South_Af...</td>\n      <td>has_stopped</td>\n      <td>ZAMBIA STOPS SENDING COPPER THROUGH SOUTH AFRICA</td>\n      <td>Zambia</td>\n      <td>South Africa</td>\n      <td>stopped</td>\n      <td>stops</td>\n      <td>stop</td>\n    </tr>\n    <tr>\n      <th>6624</th>\n      <td>11.0</td>\n      <td>Cairo stopped repaying Moscow for arms purchas...</td>\n      <td>Cairo</td>\n      <td>repaying_Moscow_for_arms_purchases_in_1977_\\n_...</td>\n      <td>stopped</td>\n      <td>EGYPT, SOVIETS TO RENEGOTIATE ARMS DEBT TERMS</td>\n      <td>Cairo</td>\n      <td>Moscow president Anwar Sadat U.S</td>\n      <td>stopped</td>\n      <td>stops</td>\n      <td>stop</td>\n    </tr>\n    <tr>\n      <th>6813</th>\n      <td>11.0</td>\n      <td>Cairo stopped repaying Moscow for arms purchas...</td>\n      <td>Cairo</td>\n      <td>repaying_Moscow_for_arms_purchases_in_1977_\\n_...</td>\n      <td>stopped</td>\n      <td>EGYPT, SOVIET UNION TO RENEGOTIATE ARMS DEBT T...</td>\n      <td>Cairo</td>\n      <td>Moscow president Anwar Sadat U.S</td>\n      <td>stopped</td>\n      <td>stops</td>\n      <td>stop</td>\n    </tr>\n    <tr>\n      <th>8048</th>\n      <td>1.0</td>\n      <td>Baldrige will also stop in Hong Kong to meet B...</td>\n      <td>Baldrige</td>\n      <td>to_meet_British_\\n_officials_and_local_U.S._An...</td>\n      <td>will_stop</td>\n      <td>BALDRIGE TO LAUNCH FAR EAST TRADE DRIVE</td>\n      <td>Baldrige</td>\n      <td>U.S. Hong Kong</td>\n      <td>stopped</td>\n      <td>stops</td>\n      <td>stop</td>\n    </tr>\n    <tr>\n      <th>12379</th>\n      <td>1.0</td>\n      <td>Peru, the world's second biggest silver produc...</td>\n      <td>Peru</td>\n      <td>selling_its_refined_silver_and_state_-_markete...</td>\n      <td>stopped</td>\n      <td>PERU PRESIDENT WARNS OF RETALIATION ON SILVER</td>\n      <td>Peru</td>\n      <td>tuesday</td>\n      <td>stopped</td>\n      <td>stops</td>\n      <td>stop</td>\n    </tr>\n    <tr>\n      <th>14104</th>\n      <td>2.0</td>\n      <td>The company said deferrals of payment obligati...</td>\n      <td>Zapata</td>\n      <td>paying_interest_on_the_debentures_in_April_\\n_...</td>\n      <td>stopped</td>\n      <td>ZAPATA &lt;ZOS&gt; WON'T PAY INTEREST ON DEBENTURES</td>\n      <td>Zapata</td>\n      <td>April</td>\n      <td>stopped</td>\n      <td>stops</td>\n      <td>stop</td>\n    </tr>\n    <tr>\n      <th>14489</th>\n      <td>13.0</td>\n      <td>But Rafidain bank stopped paying debt due on l...</td>\n      <td>Rafidain_bank</td>\n      <td>paying_debt_due_on_letters_of_\\n_credit_last_M...</td>\n      <td>stopped</td>\n      <td>IRAQ DEFERS PAYMENTS ON 500 MLN DLR EUROLOAN</td>\n      <td>Rafidain bank</td>\n      <td>March</td>\n      <td>stopped</td>\n      <td>stops</td>\n      <td>stop</td>\n    </tr>\n    <tr>\n      <th>14519</th>\n      <td>1.0</td>\n      <td>&lt;Ryoka Light Metal Industries Ltd&gt; will stop s...</td>\n      <td>Ryoka_Light_Metal_Industries_Ltd_&gt;</td>\n      <td>smelting_in_\\n_April</td>\n      <td>will_stop</td>\n      <td>NIPPON LIGHT METAL CONTINUES ALUMINIUM OUTPUT CUT</td>\n      <td>Ryoka Light Metal Industries Ltd &gt;</td>\n      <td>April</td>\n      <td>stopped</td>\n      <td>stops</td>\n      <td>stop</td>\n    </tr>\n    <tr>\n      <th>15586</th>\n      <td>12.0</td>\n      <td>\"\\n    An immediate goal is to get Shell to st...</td>\n      <td>Shell</td>\n      <td>selling_fuel_to_\\n_South_Afria_'s_military_and...</td>\n      <td>to_stop</td>\n      <td>ROYAL DUTCH &lt;RD&gt; OBJECT OF SHAREHOLDER CAMPAIGN</td>\n      <td>Shell</td>\n      <td>South Afria</td>\n      <td>stopped</td>\n      <td>stops</td>\n      <td>stop</td>\n    </tr>\n    <tr>\n      <th>15693</th>\n      <td>8.0</td>\n      <td>To entice U.S. Investors to fill the\\ngap that...</td>\n      <td>Japanese</td>\n      <td>buying_U.S._\\n_Bonds</td>\n      <td>stopped</td>\n      <td>TRADE WAR FEARS MAY PROMPT STOCK MARKETS' DOWN...</td>\n      <td>Japanese</td>\n      <td>U.S.</td>\n      <td>stopped</td>\n      <td>stops</td>\n      <td>stop</td>\n    </tr>\n    <tr>\n      <th>15971</th>\n      <td>11.0</td>\n      <td>Japan has stopped dumping chips in the U.S.</td>\n      <td>Japan</td>\n      <td>dumping_chips_in_the_U.S.</td>\n      <td>has_stopped</td>\n      <td>U.S. MAY DROP TARIFFS IF JAPAN OPENS - YEUTTER</td>\n      <td>Japan</td>\n      <td>U.S.</td>\n      <td>stopped</td>\n      <td>stops</td>\n      <td>stop</td>\n    </tr>\n    <tr>\n      <th>16204</th>\n      <td>11.0</td>\n      <td>Japan has stopped dumping chips in the U.S.</td>\n      <td>Japan</td>\n      <td>dumping_chips_in_the_U.S.</td>\n      <td>has_stopped</td>\n      <td>U.S. MAY DROP TARIFFS IF JAPAN OPENS UP - YEUTTER</td>\n      <td>Japan</td>\n      <td>U.S.</td>\n      <td>stopped</td>\n      <td>stops</td>\n      <td>stop</td>\n    </tr>\n    <tr>\n      <th>20942</th>\n      <td>5.0</td>\n      <td>But U.S. officials have said that while Japan ...</td>\n      <td>Japan</td>\n      <td>dumping_in_the_U.S._market</td>\n      <td>has_stopped</td>\n      <td>UNIONIST URGES RETALIATION AGAINST JAPAN</td>\n      <td>Japan</td>\n      <td>U.S.</td>\n      <td>stopped</td>\n      <td>stops</td>\n      <td>stop</td>\n    </tr>\n    <tr>\n      <th>21006</th>\n      <td>1.0</td>\n      <td>Most U.S. firms stopped using financial subsid...</td>\n      <td>U.S._firms</td>\n      <td>using_financial_subsidiaries_\\n_incorporated_i...</td>\n      <td>stopped</td>\n      <td>LIMITED IMPACT SEEN FROM U.S. TAX ACCORD ACTION</td>\n      <td>U.S. firms</td>\n      <td>Netherlands Antilles July</td>\n      <td>stopped</td>\n      <td>stops</td>\n      <td>stop</td>\n    </tr>\n    <tr>\n      <th>21617</th>\n      <td>0.0</td>\n      <td>The Pentagon has stopped approving\\nany new mi...</td>\n      <td>Pentagon</td>\n      <td>approving_\\n_any_new_military_contracts_to_Jap...</td>\n      <td>has_stopped</td>\n      <td>PENTAGON STOPS NEW BUSINESS WITH TOSHIBA</td>\n      <td>Pentagon</td>\n      <td>Japan Toshiba Corp TSBA.T Soviet Union</td>\n      <td>stopped</td>\n      <td>stops</td>\n      <td>stop</td>\n    </tr>\n  </tbody>\n</table>\n</div>"
     },
     "execution_count": 35,
     "metadata": {},
     "output_type": "execute_result"
    }
   ],
   "source": [
    "clean_df[clean_df[\"relation_future\"] == \"stop\"]"
   ]
  },
  {
   "cell_type": "code",
   "execution_count": 36,
   "metadata": {
    "ExecuteTime": {
     "end_time": "2024-02-29T16:32:57.876094677Z",
     "start_time": "2024-02-29T16:32:57.870082341Z"
    }
   },
   "outputs": [],
   "source": [
    "wh_lookup = {k[0]:k[1] for k in verb_wh_pairs[[\"token\", \"wh\"]].values}"
   ]
  },
  {
   "cell_type": "code",
   "execution_count": 37,
   "metadata": {
    "ExecuteTime": {
     "end_time": "2024-02-29T16:32:58.141985434Z",
     "start_time": "2024-02-29T16:32:58.131027084Z"
    }
   },
   "outputs": [
    {
     "data": {
      "text/plain": "'what'"
     },
     "execution_count": 37,
     "metadata": {},
     "output_type": "execute_result"
    }
   ],
   "source": [
    "wh_lookup['offer']"
   ]
  },
  {
   "cell_type": "code",
   "execution_count": 38,
   "metadata": {
    "ExecuteTime": {
     "end_time": "2024-02-29T16:32:59.778391393Z",
     "start_time": "2024-02-29T16:32:59.767181331Z"
    }
   },
   "outputs": [],
   "source": [
    "import re \n",
    "\n",
    "def get_relation_action(text, rel):\n",
    "    try:\n",
    "        r_value = rel.split(\"_\")[-1]\n",
    "        t_list = text.split(\" \")\n",
    "        t_index = t_list.index(r_value)+1\n",
    "        action = \" \".join(t_list[t_index: ])\n",
    "    except ValueError:\n",
    "        r_value = rel.split(\"_\")[-1]\n",
    "        text = re.sub(r\"\"\"\n",
    "                [,.;@#?!&$\")(-/]+  # Accept one or more copies of punctuation\n",
    "               \\ *           # plus zero or more copies of a space,\n",
    "               \"\"\",\n",
    "               \" \",          # and replace it with a single space\n",
    "               text, flags=re.VERBOSE)\n",
    "        t_list = text.replace(\"\\n\", \" \").split(\" \")\n",
    "        t_index = t_list.index(r_value)+1\n",
    "        action = \" \".join(t_list[t_index: ])\n",
    "    return t_index, action. \\\n",
    "        replace(\"\\n\", \" \"). \\\n",
    "            strip()\n",
    "\n",
    "def build_text(text, rel, ent):\n",
    "    _, action = get_relation_action(text, rel)\n",
    "    return f\"{' '.join(ent.split('_'))} {' '.join(rel.split('_'))} {action}\".strip()\n",
    "\n",
    "def build_answer(text, rel, obj, ent):\n",
    "    action = get_relation_action(text.replace(\"\\n\", \" \"), rel)\n",
    "    action = action\\\n",
    "        .replace(obj, \" \")\\\n",
    "        .strip()\\\n",
    "        .replace(\"\\n\", \" \")\\\n",
    "        .replace(\"...\", \"\")\n",
    "    for ent in ent.split(\"_\"):\n",
    "        action = action.replace(ent, \" \")\n",
    "    print(f\"{action}\")\n",
    "\n",
    "def find_numbers(text, obj):\n",
    "    pass\n",
    "\n",
    "\n",
    "def build_question(wh, relation, obj, ent):\n",
    "    ent = \" \".join(ent.split(\"_\"))\n",
    "    obj = \" \".join(obj.split(\"_\"))\n",
    "    q = f\"{wh.capitalize()} did {ent} {relation}?\"\n",
    "\n",
    "    return q\n",
    "\n",
    "\n",
    "\n"
   ]
  },
  {
   "cell_type": "code",
   "execution_count": 39,
   "metadata": {
    "ExecuteTime": {
     "end_time": "2024-02-29T16:33:01.283530444Z",
     "start_time": "2024-02-29T16:33:01.278886439Z"
    }
   },
   "outputs": [],
   "source": [
    "text = clean_df.iloc[500][\"text\"]\n",
    "relation = clean_df.iloc[500][\"relation\"]\n",
    "entity = clean_df.iloc[500][\"entity\"]\n",
    "\n",
    "ind, a = get_relation_action(text, relation)"
   ]
  },
  {
   "cell_type": "code",
   "execution_count": 40,
   "metadata": {
    "ExecuteTime": {
     "end_time": "2024-02-29T16:33:11.239389609Z",
     "start_time": "2024-02-29T16:33:11.232637413Z"
    }
   },
   "outputs": [
    {
     "data": {
      "text/plain": "'IMF team urges Belgium to adopt a firm interest rate policy, with a particular emphasis on long-term rates.'"
     },
     "execution_count": 40,
     "metadata": {},
     "output_type": "execute_result"
    }
   ],
   "source": [
    "build_text(text, relation, entity)"
   ]
  },
  {
   "cell_type": "code",
   "execution_count": 41,
   "metadata": {
    "ExecuteTime": {
     "end_time": "2024-02-29T16:33:11.610139219Z",
     "start_time": "2024-02-29T16:33:11.606884686Z"
    }
   },
   "outputs": [
    {
     "data": {
      "text/plain": "'The IMF team also urges Belgium to adopt a firm interest\\nrate policy, with a particular emphasis on long-term rates.\\n    '"
     },
     "execution_count": 41,
     "metadata": {},
     "output_type": "execute_result"
    }
   ],
   "source": [
    "text"
   ]
  },
  {
   "cell_type": "code",
   "execution_count": 42,
   "metadata": {
    "ExecuteTime": {
     "end_time": "2024-02-29T16:33:13.491033284Z",
     "start_time": "2024-02-29T16:33:12.081457066Z"
    }
   },
   "outputs": [],
   "source": [
    "paragraphs = []\n",
    "qas = []\n",
    "\n",
    "TEMPLATE = {\"title\": \"this is a title\",\n",
    "            \"paragraphs\": [\n",
    "                {\"qas\": [],\n",
    "                 \"context\": \"dfs\"}]}\n",
    "data = []\n",
    "error_count = 0\n",
    "error_indices = []\n",
    "for title in clean_df[\"title\"].unique():\n",
    "    \n",
    "    template = TEMPLATE\n",
    "    template[\"title\"] = title\n",
    "    qas = []\n",
    "    for index, row in clean_df[clean_df[\"title\"] == title].iterrows():\n",
    "\n",
    "        wh = wh_lookup.get(row[\"relation_future\"]) \n",
    "\n",
    "        text = row[\"text\"]\n",
    "        \n",
    "        clean_relation = row[\"relation_future\"]\n",
    "        relation = row[\"relation\"]\n",
    "\n",
    "        obj = row[\"object\"]\n",
    "        clean_obj = row[\"object_noun\"]\n",
    "        \n",
    "        clean_entity = row[\"clean_entities\"]\n",
    "        entity = row[\"entity\"]\n",
    "\n",
    "\n",
    "        try:\n",
    "            q_text = build_text(text, relation, entity)\n",
    "            assert(obj != clean_entity)\n",
    "        \n",
    "            mod = \"did\"\n",
    "    \n",
    "            q = build_question(wh, clean_relation, clean_obj, clean_entity)\n",
    "        except AssertionError:\n",
    "            print(\"Assertion error build text\")\n",
    "            q = \"AssertionError\"\n",
    "        except:\n",
    "            q = \"Error\"\n",
    "        \n",
    "        #print(f\"{text}\\n{clean_entity}\")\n",
    "        try:\n",
    "            answer_start_num, answer = get_relation_action(text, relation)\n",
    "            qa = {\"question\": q,\n",
    "                            \"id\": str(index),\n",
    "                            \"answers\": [{\"text\": q_text, \"answer_start\": answer_start_num}],\n",
    "                            \"is_impossible\": False\n",
    "                            }\n",
    "            qas.append(qa)\n",
    "        except ValueError as e:\n",
    "            print(f\"Value error get relation:\\n{e}\")\n",
    "            print(text)\n",
    "            error_count += 1\n",
    "            error_indices.append(index)\n",
    "        qa_dict = {\"qas\": qas, \"context\": text}\n",
    "        paragraphs = [qa_dict]\n",
    "\n",
    "        final_dict = {\"title\": title, \"paragraphs\": paragraphs}\n",
    "        data.append(final_dict)\n",
    "    \n",
    "        "
   ]
  },
  {
   "cell_type": "code",
   "execution_count": 43,
   "metadata": {
    "ExecuteTime": {
     "end_time": "2024-02-29T16:33:15.005192713Z",
     "start_time": "2024-02-29T16:33:14.998565207Z"
    }
   },
   "outputs": [],
   "source": [
    "final_dict = {\"data\": data}"
   ]
  },
  {
   "cell_type": "code",
   "execution_count": 46,
   "metadata": {
    "ExecuteTime": {
     "end_time": "2024-02-29T16:35:12.123874141Z",
     "start_time": "2024-02-29T16:35:12.090563158Z"
    }
   },
   "outputs": [],
   "source": [
    "with open(\"data/reuters/reuters_squad_form.json\", \"w\") as f:\n",
    "    d = json.dumps(final_dict)\n",
    "    f.write(d)"
   ]
  },
  {
   "cell_type": "code",
   "execution_count": 45,
   "outputs": [
    {
     "data": {
      "text/plain": "{'title': 'IRAN REPORTS HEAVY FIGHTING IN IRAQI KURDISTAN',\n 'paragraphs': [{'qas': [{'question': 'What did Iran back?',\n     'id': '7',\n     'answers': [{'text': 'Iran has backed dissident Kurds in the area in attacks on government positions and installations in northern Iraq.',\n       'answer_start': 3}],\n     'is_impossible': False}],\n   'context': 'Iran has backed dissident Kurds in the area in attacks on\\ngovernment positions and installations in northern Iraq.\\n    '}]}"
     },
     "execution_count": 45,
     "metadata": {},
     "output_type": "execute_result"
    }
   ],
   "source": [
    "data[0]"
   ],
   "metadata": {
    "collapsed": false,
    "ExecuteTime": {
     "end_time": "2024-02-29T16:34:44.272053634Z",
     "start_time": "2024-02-29T16:34:44.236611800Z"
    }
   }
  },
  {
   "cell_type": "code",
   "execution_count": null,
   "outputs": [],
   "source": [],
   "metadata": {
    "collapsed": false
   }
  }
 ],
 "metadata": {
  "kernelspec": {
   "display_name": "Python 3",
   "language": "python",
   "name": "python3"
  },
  "language_info": {
   "codemirror_mode": {
    "name": "ipython",
    "version": 3
   },
   "file_extension": ".py",
   "mimetype": "text/x-python",
   "name": "python",
   "nbconvert_exporter": "python",
   "pygments_lexer": "ipython3",
   "version": "3.10.10"
  }
 },
 "nbformat": 4,
 "nbformat_minor": 0
}
