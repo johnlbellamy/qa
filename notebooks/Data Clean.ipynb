{
 "cells": [
  {
   "cell_type": "code",
   "execution_count": 16,
   "metadata": {
    "collapsed": false,
    "ExecuteTime": {
     "end_time": "2024-03-02T22:12:46.420070873Z",
     "start_time": "2024-03-02T22:12:46.409268637Z"
    }
   },
   "outputs": [],
   "source": [
    "import pandas as pd\n",
    "import tokenizers\n",
    "import requests \n",
    "import json\n",
    "import re\n",
    "import os\n",
    "import spacy"
   ]
  },
  {
   "cell_type": "code",
   "execution_count": 2,
   "metadata": {
    "collapsed": false,
    "ExecuteTime": {
     "end_time": "2024-03-02T22:08:52.787744190Z",
     "start_time": "2024-03-02T22:08:52.723680828Z"
    }
   },
   "outputs": [],
   "source": [
    "final_df = pd.DataFrame()\n",
    "for relation_file in os.listdir(\"../data/relations\"):\n",
    "    df = pd.read_parquet(f\"../data/relations/{relation_file}\")\n",
    "    final_df = pd.concat([final_df, df])"
   ]
  },
  {
   "cell_type": "code",
   "execution_count": 3,
   "outputs": [
    {
     "data": {
      "text/plain": "    id                                               text  \\\n0  7.0  Finance Minister Mark\\nEyskens, who currently ...   \n0  1.0  Bank governor Chang Chi-Cheng told reporters t...   \n3  2.0  He said the rise showed signs of slowing, howe...   \n4  3.0  Chang declined to predict how high the reserve...   \n5  4.0  In January, Taiwan reduced import tariffs of u...   \n\n                     entity                                       object  \\\n0     Minister_Mark_Eyskens                                        issue   \n0  governor_Chang_Chi_Cheng                                    reporters   \n3                    Taiwan                                import_policy   \n4                     Chang  to_predict_how_high_the_reserves_might_rise   \n5                    Taiwan                               import_tariffs   \n\n          relation                                          title  \n0       has_called   BELGIAN ECU COIN ISSUE PRICED, SALE DATE SET  \n0             told  TAIWAN FOREIGN EXCHANGE RESERVES HIT NEW HIGH  \n3  has_liberalised  TAIWAN FOREIGN EXCHANGE RESERVES HIT NEW HIGH  \n4         declined  TAIWAN FOREIGN EXCHANGE RESERVES HIT NEW HIGH  \n5          reduced  TAIWAN FOREIGN EXCHANGE RESERVES HIT NEW HIGH  ",
      "text/html": "<div>\n<style scoped>\n    .dataframe tbody tr th:only-of-type {\n        vertical-align: middle;\n    }\n\n    .dataframe tbody tr th {\n        vertical-align: top;\n    }\n\n    .dataframe thead th {\n        text-align: right;\n    }\n</style>\n<table border=\"1\" class=\"dataframe\">\n  <thead>\n    <tr style=\"text-align: right;\">\n      <th></th>\n      <th>id</th>\n      <th>text</th>\n      <th>entity</th>\n      <th>object</th>\n      <th>relation</th>\n      <th>title</th>\n    </tr>\n  </thead>\n  <tbody>\n    <tr>\n      <th>0</th>\n      <td>7.0</td>\n      <td>Finance Minister Mark\\nEyskens, who currently ...</td>\n      <td>Minister_Mark_Eyskens</td>\n      <td>issue</td>\n      <td>has_called</td>\n      <td>BELGIAN ECU COIN ISSUE PRICED, SALE DATE SET</td>\n    </tr>\n    <tr>\n      <th>0</th>\n      <td>1.0</td>\n      <td>Bank governor Chang Chi-Cheng told reporters t...</td>\n      <td>governor_Chang_Chi_Cheng</td>\n      <td>reporters</td>\n      <td>told</td>\n      <td>TAIWAN FOREIGN EXCHANGE RESERVES HIT NEW HIGH</td>\n    </tr>\n    <tr>\n      <th>3</th>\n      <td>2.0</td>\n      <td>He said the rise showed signs of slowing, howe...</td>\n      <td>Taiwan</td>\n      <td>import_policy</td>\n      <td>has_liberalised</td>\n      <td>TAIWAN FOREIGN EXCHANGE RESERVES HIT NEW HIGH</td>\n    </tr>\n    <tr>\n      <th>4</th>\n      <td>3.0</td>\n      <td>Chang declined to predict how high the reserve...</td>\n      <td>Chang</td>\n      <td>to_predict_how_high_the_reserves_might_rise</td>\n      <td>declined</td>\n      <td>TAIWAN FOREIGN EXCHANGE RESERVES HIT NEW HIGH</td>\n    </tr>\n    <tr>\n      <th>5</th>\n      <td>4.0</td>\n      <td>In January, Taiwan reduced import tariffs of u...</td>\n      <td>Taiwan</td>\n      <td>import_tariffs</td>\n      <td>reduced</td>\n      <td>TAIWAN FOREIGN EXCHANGE RESERVES HIT NEW HIGH</td>\n    </tr>\n  </tbody>\n</table>\n</div>"
     },
     "execution_count": 3,
     "metadata": {},
     "output_type": "execute_result"
    }
   ],
   "source": [
    "final_df.head()"
   ],
   "metadata": {
    "collapsed": false,
    "ExecuteTime": {
     "end_time": "2024-03-02T22:08:53.119762528Z",
     "start_time": "2024-03-02T22:08:53.102668570Z"
    }
   }
  },
  {
   "cell_type": "code",
   "execution_count": 4,
   "outputs": [],
   "source": [
    "all_df = pd.read_parquet(\"../data/reuters/reuters_all.parquet\")"
   ],
   "metadata": {
    "collapsed": false,
    "ExecuteTime": {
     "end_time": "2024-03-02T22:08:54.776926383Z",
     "start_time": "2024-03-02T22:08:54.663653236Z"
    }
   }
  },
  {
   "cell_type": "code",
   "execution_count": 5,
   "outputs": [
    {
     "data": {
      "text/plain": "  old_id new_id  has_topics        date  topics    places people orgs  \\\n0   9914   5001        True  1987-03-13     acq       usa               \n1   9915   5002        True  1987-03-13  coffee  colombia               \n2   9916   5003        True  1987-03-13   grain       usa               \n3   9917   5004        True  1987-03-13               usa               \n4   9918   5005        True  1987-03-13               usa               \n\n  exchanges companies                                            title  \\\n0                                    PLM <PLMA> UNIT ENDS MERGER TALKS   \n1                        COLOMBIA OPENS APRIL/MAY COFFEE REGISTRATIONS   \n2                        USDA REPORTS 10.572 MLN ACRES IN CONSERVATION   \n3                        BRAZIL DEBT POSES THORNY ISSUE FOR U.S. BANKS   \n4                      ROCKWELL <ROK> TO REPURCHASE MORE COMMON SHARES   \n\n                    dateline  \\\n0  SAN FRANCISCO, March 13 -   \n1         BOGOTA, March 13 -   \n2     WASHINGTON, March 13 -   \n3       NEW YORK, March 13 -   \n4     PITTSBURGH, March 13 -   \n\n                                                body  \\\n0  PLM Cos Inc said its PLM Power Co\\nunit broke ...   \n1  Colombia opened coffee export\\nregistrations f...   \n2  The U.S. Agriculture Department has\\naccepted ...   \n3  CitiCorp <CCI> appears to be digging\\nin its h...   \n4  Rockwell International Corp said its\\nboard ha...   \n\n                      author     cgi_split lewis_split  \n0                             TRAINING-SET       TRAIN  \n1                             TRAINING-SET       TRAIN  \n2                             TRAINING-SET       TRAIN  \n3  By Cal Mankowski, Reuters  TRAINING-SET       TRAIN  \n4                             TRAINING-SET       TRAIN  ",
      "text/html": "<div>\n<style scoped>\n    .dataframe tbody tr th:only-of-type {\n        vertical-align: middle;\n    }\n\n    .dataframe tbody tr th {\n        vertical-align: top;\n    }\n\n    .dataframe thead th {\n        text-align: right;\n    }\n</style>\n<table border=\"1\" class=\"dataframe\">\n  <thead>\n    <tr style=\"text-align: right;\">\n      <th></th>\n      <th>old_id</th>\n      <th>new_id</th>\n      <th>has_topics</th>\n      <th>date</th>\n      <th>topics</th>\n      <th>places</th>\n      <th>people</th>\n      <th>orgs</th>\n      <th>exchanges</th>\n      <th>companies</th>\n      <th>title</th>\n      <th>dateline</th>\n      <th>body</th>\n      <th>author</th>\n      <th>cgi_split</th>\n      <th>lewis_split</th>\n    </tr>\n  </thead>\n  <tbody>\n    <tr>\n      <th>0</th>\n      <td>9914</td>\n      <td>5001</td>\n      <td>True</td>\n      <td>1987-03-13</td>\n      <td>acq</td>\n      <td>usa</td>\n      <td></td>\n      <td></td>\n      <td></td>\n      <td></td>\n      <td>PLM &lt;PLMA&gt; UNIT ENDS MERGER TALKS</td>\n      <td>SAN FRANCISCO, March 13 -</td>\n      <td>PLM Cos Inc said its PLM Power Co\\nunit broke ...</td>\n      <td></td>\n      <td>TRAINING-SET</td>\n      <td>TRAIN</td>\n    </tr>\n    <tr>\n      <th>1</th>\n      <td>9915</td>\n      <td>5002</td>\n      <td>True</td>\n      <td>1987-03-13</td>\n      <td>coffee</td>\n      <td>colombia</td>\n      <td></td>\n      <td></td>\n      <td></td>\n      <td></td>\n      <td>COLOMBIA OPENS APRIL/MAY COFFEE REGISTRATIONS</td>\n      <td>BOGOTA, March 13 -</td>\n      <td>Colombia opened coffee export\\nregistrations f...</td>\n      <td></td>\n      <td>TRAINING-SET</td>\n      <td>TRAIN</td>\n    </tr>\n    <tr>\n      <th>2</th>\n      <td>9916</td>\n      <td>5003</td>\n      <td>True</td>\n      <td>1987-03-13</td>\n      <td>grain</td>\n      <td>usa</td>\n      <td></td>\n      <td></td>\n      <td></td>\n      <td></td>\n      <td>USDA REPORTS 10.572 MLN ACRES IN CONSERVATION</td>\n      <td>WASHINGTON, March 13 -</td>\n      <td>The U.S. Agriculture Department has\\naccepted ...</td>\n      <td></td>\n      <td>TRAINING-SET</td>\n      <td>TRAIN</td>\n    </tr>\n    <tr>\n      <th>3</th>\n      <td>9917</td>\n      <td>5004</td>\n      <td>True</td>\n      <td>1987-03-13</td>\n      <td></td>\n      <td>usa</td>\n      <td></td>\n      <td></td>\n      <td></td>\n      <td></td>\n      <td>BRAZIL DEBT POSES THORNY ISSUE FOR U.S. BANKS</td>\n      <td>NEW YORK, March 13 -</td>\n      <td>CitiCorp &lt;CCI&gt; appears to be digging\\nin its h...</td>\n      <td>By Cal Mankowski, Reuters</td>\n      <td>TRAINING-SET</td>\n      <td>TRAIN</td>\n    </tr>\n    <tr>\n      <th>4</th>\n      <td>9918</td>\n      <td>5005</td>\n      <td>True</td>\n      <td>1987-03-13</td>\n      <td></td>\n      <td>usa</td>\n      <td></td>\n      <td></td>\n      <td></td>\n      <td></td>\n      <td>ROCKWELL &lt;ROK&gt; TO REPURCHASE MORE COMMON SHARES</td>\n      <td>PITTSBURGH, March 13 -</td>\n      <td>Rockwell International Corp said its\\nboard ha...</td>\n      <td></td>\n      <td>TRAINING-SET</td>\n      <td>TRAIN</td>\n    </tr>\n  </tbody>\n</table>\n</div>"
     },
     "execution_count": 5,
     "metadata": {},
     "output_type": "execute_result"
    }
   ],
   "source": [
    "all_df.head()"
   ],
   "metadata": {
    "collapsed": false,
    "ExecuteTime": {
     "end_time": "2024-03-02T22:08:54.953451883Z",
     "start_time": "2024-03-02T22:08:54.945099968Z"
    }
   }
  },
  {
   "cell_type": "code",
   "execution_count": 6,
   "outputs": [],
   "source": [
    "full_text_map = {}\n",
    "\n",
    "for title in list(final_df['title'].unique()):\n",
    "    title_df = all_df[all_df[\"title\"] == title]\n",
    "    if len(title_df) > 1:\n",
    "        title_body = \\\n",
    "            title_df[\"body\"].values[0]\n",
    "    else:\n",
    "        title_body = title_df[\"body\"].values[0]\n",
    "    full_text_map[title] = title_body"
   ],
   "metadata": {
    "collapsed": false,
    "ExecuteTime": {
     "end_time": "2024-03-02T22:09:08.247901183Z",
     "start_time": "2024-03-02T22:08:59.682114826Z"
    }
   }
  },
  {
   "cell_type": "code",
   "execution_count": 55,
   "outputs": [],
   "source": [
    "final_df[\"context\"] = final_df['title'].map(lambda t: full_text_map.get(t))"
   ],
   "metadata": {
    "collapsed": false,
    "ExecuteTime": {
     "end_time": "2024-03-02T22:19:50.685978897Z",
     "start_time": "2024-03-02T22:19:50.680124544Z"
    }
   }
  },
  {
   "cell_type": "code",
   "execution_count": 56,
   "metadata": {
    "collapsed": false,
    "ExecuteTime": {
     "end_time": "2024-03-02T22:19:51.232256263Z",
     "start_time": "2024-03-02T22:19:51.190024612Z"
    }
   },
   "outputs": [],
   "source": [
    "final_df.index = range(len(final_df))"
   ]
  },
  {
   "cell_type": "code",
   "execution_count": 57,
   "outputs": [],
   "source": [
    "def clean_text(text):\n",
    "    text = text.replace(\"\\n\", \" \")\n",
    "    text = re.sub(' +', ' ', text)\n",
    "    return text"
   ],
   "metadata": {
    "collapsed": false,
    "ExecuteTime": {
     "end_time": "2024-03-02T22:19:51.615188186Z",
     "start_time": "2024-03-02T22:19:51.609897604Z"
    }
   }
  },
  {
   "cell_type": "code",
   "execution_count": 58,
   "outputs": [
    {
     "data": {
      "text/plain": "'A messy sentence about something. Here is another sentebnce.'"
     },
     "execution_count": 58,
     "metadata": {},
     "output_type": "execute_result"
    }
   ],
   "source": [
    "clean_text(\"A messy sentence\\n about    something. Here is another sentebnce.\")"
   ],
   "metadata": {
    "collapsed": false,
    "ExecuteTime": {
     "end_time": "2024-03-02T22:19:53.183633960Z",
     "start_time": "2024-03-02T22:19:53.158800127Z"
    }
   }
  },
  {
   "cell_type": "code",
   "execution_count": 59,
   "outputs": [],
   "source": [
    "final_df[\"context\"] = final_df[\"context\"].apply(clean_text)"
   ],
   "metadata": {
    "collapsed": false,
    "ExecuteTime": {
     "end_time": "2024-03-02T22:19:54.596470383Z",
     "start_time": "2024-03-02T22:19:53.517868248Z"
    }
   }
  },
  {
   "cell_type": "code",
   "execution_count": 60,
   "metadata": {
    "collapsed": true,
    "ExecuteTime": {
     "end_time": "2024-03-02T22:19:59.077897139Z",
     "start_time": "2024-03-02T22:19:59.073647476Z"
    }
   },
   "outputs": [
    {
     "data": {
      "text/plain": "      id                                               text  \\\n0    7.0  Finance Minister Mark\\nEyskens, who currently ...   \n1    1.0  Bank governor Chang Chi-Cheng told reporters t...   \n2    2.0  He said the rise showed signs of slowing, howe...   \n3    3.0  Chang declined to predict how high the reserve...   \n4    4.0  In January, Taiwan reduced import tariffs of u...   \n5    6.0  Wang Chang-Ming, Vice Chairman of the Council ...   \n6    1.0  Iran launched the new offensive, codenamed Kar...   \n7   10.0  Iran has backed dissident Kurds in the area in...   \n8   12.0  The Iraqis have made no comment so far on the ...   \n9   12.0  The Iraqis have made no comment so far on the ...   \n10   0.0  The Ministry of International Trade and\\nIndus...   \n11   3.0  Daihatsu is owned 15.1 pct by Toyota Motor Cor...   \n12   0.0  The state-owned Minerals and Metals\\nTrading C...   \n13   1.0  Japan, the biggest buyer of Indian iron ore wi...   \n14   2.0  \"Japan has said it may be forced to reduce ore...   \n15   7.0  Banking sources said that although the January...   \n16   2.0  In December, the BLEU had an 11.9 billion fran...   \n17   1.0  The\\nBank forecast the shortage in the system ...   \n18   0.0  Caisse Centrale de Credit Cooperatif is\\nlaunc...   \n19   0.0  Thailand exported 1,816 tonnes of tin\\nmetal i...   \n20   0.0  The Commonwealth Bank of Australia is\\nissuing...   \n21   1.0  Hawke told a Sydney radio station the deficit ...   \n22   4.0  The officials said that when the Plaza agreeme...   \n23  22.0  EC business also had a remarkable year\\nin Jap...   \n24   0.0  Oesterreichische Draukraftwerke AG of\\nKlagenf...   \n25   0.0  Gunze Sangyo Inc of Tokyo is launching a\\n25 m...   \n26   0.0  McDonalds Corp is raising 75 mln\\nAustralian d...   \n27   0.0  The Bank of Japan will sell tomorrow 500\\nbill...   \n28   3.0  The Hughes board objected to a U.S. Department...   \n29   7.0  Analysts expect Hang Seng to announce net prof...   \n30   8.0  They expect Hang Seng to pay a final dividend ...   \n31  20.0  \"Wardley had a tremendous year acting as\\nfina...   \n32  21.0  Wardley was underwriter for last year's billio...   \n33   3.0  BHPGM will pay 440 mln dlrs for BHP's gold int...   \n34  10.0  The statement said BHPGM would also hold BHP's...   \n35   0.0  New Zealand clearing house <DataBank\\nSystems ...   \n36   0.0  Austria has decided to redeem six years\\nearly...   \n37   1.0  It will redeem 18.4 billion yen at 103.00 and ...   \n38   2.0  The Federal Bureau of Statistics has not yet r...   \n39   3.0  The\\nFebruary figure marked a year-on-year ris...   \n40  13.0  The Euroyen bonds, once issued, are mostly pic...   \n41  18.0  The Finance Ministry last April shortened the ...   \n42  28.0  Euroyen bonds must now carry a five-year matur...   \n43   0.0  Thai coffee exports rose to 22,068\\ntonnes in ...   \n44   0.0  OPEC countries are all sticking firmly to\\noff...   \n45   1.0  Subroto, attending a Pacific Energy Cooperatio...   \n46   4.0  Asked whether OPEC members of the Gulf Coopera...   \n47   4.0  Asked whether OPEC members of the Gulf Coopera...   \n48   0.0  Republicans in Congress hailed\\nPresident Reag...   \n49   0.0  Republicans in Congress hailed\\nPresident Reag...   \n\n                                  entity  \\\n0                  Minister_Mark_Eyskens   \n1               governor_Chang_Chi_Cheng   \n2                                 Taiwan   \n3                                  Chang   \n4                                 Taiwan   \n5                        Wang_Chang_Ming   \n6                                   Iran   \n7                                   Iran   \n8                                 Iraqis   \n9                                 Tehran   \n10                              Ministry   \n11                              Daihatsu   \n12          Minerals_Metals_Trading_Corp   \n13                                 Japan   \n14                             New_Delhi   \n15                            ALP_growth   \n16                                  BLEU   \n17                                  Bank   \n18  Caisse_Centrale_de_Credit_Cooperatif   \n19                              Thailand   \n20                     Commonwealth_Bank   \n21                                 Hawke   \n22                       Plaza_agreement   \n23                           EC_business   \n24    Oesterreichische_Draukraftwerke_AG   \n25                      Gunze_Sangyo_Inc   \n26                        McDonalds_Corp   \n27                                  Bank   \n28                                 Baker   \n29                             Hang_Seng   \n30                             Hang_Seng   \n31                               Wardley   \n32                         Hongkong_Bank   \n33                                 BHPGM   \n34                                 BHPGM   \n35                              Databank   \n36                               Austria   \n37                                 Daiwa   \n38                        Federal_Bureau   \n39                       February_figure   \n40                         Euroyen_bonds   \n41                      Finance_Ministry   \n42                         Euroyen_bonds   \n43                    Customs_Department   \n44                   Indonesian_Minister   \n45                               Subroto   \n46                          OPEC_members   \n47                                 Qatar   \n48                           Republicans   \n49                                Reagan   \n\n                                               object          relation  \\\n0                                               issue        has_called   \n1                                           reporters              told   \n2                                       import_policy   has_liberalised   \n3         to_predict_how_high_the_reserves_might_rise          declined   \n4                                      import_tariffs           reduced   \n5                                             Reuters              told   \n6                                           offensive          launched   \n7                                               Kurds        has_backed   \n8                                             comment         have_made   \n9                                             comment          reported   \n10                                       export_quota       has_not_set   \n11                                                pct          is_owned   \n12                                               team         will_send   \n13                                              India         has_asked   \n14                                to_reduce_the_price             fails   \n15                    to_have_accelerated_in_February          appeared   \n16                         franc_trade_surplus_REUTER               had   \n17                                           shortage          forecast   \n18                bond_issue_managers_Credit_Lyonnais      is_launching   \n19                                             tonnes          exported   \n20                                       dlr_eurobond        is_issuing   \n21                               Sydney_radio_station              told   \n22                                              place              took   \n23                                               year               had   \n24                                          year_bond      is_launching   \n25                                        notes_issue      is_launching   \n26                                            dollars        is_raising   \n27                                                yen         will_sell   \n28                                       subsidiaries              sell   \n29                                    profit_increase       to_announce   \n30                                           dividend            to_pay   \n31                                               year               had   \n32                                                pct             owned   \n33                                     dlrs_interests          will_pay   \n34                                          pct_stake        would_hold   \n35                                              staff           remains   \n36  to_redeem_six_years_\\n_early_a_20_billion_yen_...       has_decided   \n37                                             REUTER              said   \n38                                            figures  has_not_released   \n39                                               rise            marked   \n40                                        trust_banks        are_picked   \n41                                             period         shortened   \n42                                      year_maturity        must_carry   \n43                                             REUTER              said   \n44                                            Reuters              told   \n45                                      price_changes            blamed   \n46                                          proposals               had   \n47                                                oil              sell   \n48                                             speech            hailed   \n49                     to_match_his_words_with_action        would_have   \n\n                                                title  \\\n0        BELGIAN ECU COIN ISSUE PRICED, SALE DATE SET   \n1       TAIWAN FOREIGN EXCHANGE RESERVES HIT NEW HIGH   \n2       TAIWAN FOREIGN EXCHANGE RESERVES HIT NEW HIGH   \n3       TAIWAN FOREIGN EXCHANGE RESERVES HIT NEW HIGH   \n4       TAIWAN FOREIGN EXCHANGE RESERVES HIT NEW HIGH   \n5       TAIWAN FOREIGN EXCHANGE RESERVES HIT NEW HIGH   \n6      IRAN REPORTS HEAVY FIGHTING IN IRAQI KURDISTAN   \n7      IRAN REPORTS HEAVY FIGHTING IN IRAQI KURDISTAN   \n8      IRAN REPORTS HEAVY FIGHTING IN IRAQI KURDISTAN   \n9      IRAN REPORTS HEAVY FIGHTING IN IRAQI KURDISTAN   \n10  JAPANESE MINISTRY DENIES EXPORT QUOTA FOR DAIH...   \n11  JAPANESE MINISTRY DENIES EXPORT QUOTA FOR DAIH...   \n12         INDIA AND JAPAN TO DISCUSS IRON ORE PRICES   \n13         INDIA AND JAPAN TO DISCUSS IRON ORE PRICES   \n14         INDIA AND JAPAN TO DISCUSS IRON ORE PRICES   \n15            SPAIN RAISES BANKS' RESERVE REQUIREMENT   \n16          BELGOLUX TRADE MOVES INTO SURPLUS IN 1986   \n17         U.K. MONEY MARKET OFFERED EARLY ASSISTANCE   \n18       CENTRALE DE CREDIT COOPERATIF ISSUE DETAILED   \n19                   THAI TIN EXPORTS RISE IN JANUARY   \n20   COMMONWEALTH BANK OF AUSTRALIA ISSUES NOVEL BOND   \n21         HAWKE SEES FOUR BILLION DLR BUDGET DEFICIT   \n22  NEW CURRENCY PROBLEM SEEN AMONG U.S, EUROPE, J...   \n23  NEW CURRENCY PROBLEM SEEN AMONG U.S, EUROPE, J...   \n24      OESTERREICHISCHE DRAUKRAFTWERKE SETS SFR BOND   \n25   GUNZE SANGYO SETS 25 MLN SWISS FRANC NOTES ISSUE   \n26         MCDONALDS LAUNCHES 75 MLN AUS DLR EUROBOND   \n27         BANK OF JAPAN TO SELL 500 BILLION IN BILLS   \n28     HUGHES TOOL DIRECTORS REJECT MERGER WITH BAKER   \n29  HK BANK EXPECTED TO POST 10 TO 13 PCT PROFIT RISE   \n30  HK BANK EXPECTED TO POST 10 TO 13 PCT PROFIT RISE   \n31  HK BANK EXPECTED TO POST 10 TO 13 PCT PROFIT RISE   \n32  HK BANK EXPECTED TO POST 10 TO 13 PCT PROFIT RISE   \n33    BHP TO FLOAT GOLD UNIT WITH ONE-FOR-THREE ISSUE   \n34    BHP TO FLOAT GOLD UNIT WITH ONE-FOR-THREE ISSUE   \n35  N. ZEALAND MARKETS PREPARE FOR TRADING BANK ST...   \n36   AUSTRIA DECIDES EARLY REDEMPTION OF SAMURAI BOND   \n37   AUSTRIA DECIDES EARLY REDEMPTION OF SAMURAI BOND   \n38          PAKISTAN'S FOREIGN EXCHANGE RESERVES FALL   \n39        SOUTH KOREAN MONEY SUPPLY RISES IN FEBRUARY   \n40  ECONOMIC SPOTLIGHT - EUROYEN BOND ISSUES INCREASE   \n41  ECONOMIC SPOTLIGHT - EUROYEN BOND ISSUES INCREASE   \n42  ECONOMIC SPOTLIGHT - EUROYEN BOND ISSUES INCREASE   \n43                   THAI COFFEE EXPORTS RISE IN 1986   \n44    OPEC STICKING FIRM ON OFFICIAL PRICES - SUBROTO   \n45    OPEC STICKING FIRM ON OFFICIAL PRICES - SUBROTO   \n46    OPEC STICKING FIRM ON OFFICIAL PRICES - SUBROTO   \n47    OPEC STICKING FIRM ON OFFICIAL PRICES - SUBROTO   \n48    REAGAN SPEECH WINS MIXED REACTION FROM CONGRESS   \n49    REAGAN SPEECH WINS MIXED REACTION FROM CONGRESS   \n\n                                              context  \n0   A limited Belgian issue of silver Ecu coins wi...  \n1   Taiwan's foreign exchange reserves hit a new h...  \n2   Taiwan's foreign exchange reserves hit a new h...  \n3   Taiwan's foreign exchange reserves hit a new h...  \n4   Taiwan's foreign exchange reserves hit a new h...  \n5   Taiwan's foreign exchange reserves hit a new h...  \n6   Iran said its troops repulsed heavy Iraqi coun...  \n7   Iran said its troops repulsed heavy Iraqi coun...  \n8   Iran said its troops repulsed heavy Iraqi coun...  \n9   Iran said its troops repulsed heavy Iraqi coun...  \n10  The Ministry of International Trade and Indust...  \n11  The Ministry of International Trade and Indust...  \n12  The state-owned Minerals and Metals Trading Co...  \n13  The state-owned Minerals and Metals Trading Co...  \n14  The state-owned Minerals and Metals Trading Co...  \n15  The Bank of Spain said it raised the reserve r...  \n16  The Belgo-Luxembourg Economic Union (BLEU) mov...  \n17  The Bank of England said it invited an early r...  \n18  Caisse Centrale de Credit Cooperatif is launch...  \n19  Thailand exported 1,816 tonnes of tin metal in...  \n20  The Commonwealth Bank of Australia is issuing ...  \n21  Australian Prime Minister Bob Hawke and Treasu...  \n22  The highly visible drama involving the yen's s...  \n23  The highly visible drama involving the yen's s...  \n24  Oesterreichische Draukraftwerke AG of Klagenfu...  \n25  Gunze Sangyo Inc of Tokyo is launching a 25 ml...  \n26  McDonalds Corp is raising 75 mln Australian do...  \n27  The Bank of Japan will sell tomorrow 500 billi...  \n28  The directors of Hughes Tool Co <HT> said they...  \n29  The Hongkong and Shanghai Banking Corp <HKBH.H...  \n30  The Hongkong and Shanghai Banking Corp <HKBH.H...  \n31  The Hongkong and Shanghai Banking Corp <HKBH.H...  \n32  The Hongkong and Shanghai Banking Corp <HKBH.H...  \n33  The Broken Hill Pty Co Ltd <BRKN.S> (BHP) said...  \n34  The Broken Hill Pty Co Ltd <BRKN.S> (BHP) said...  \n35  New Zealand clearing house <DataBank Systems L...  \n36  Austria has decided to redeem six years early ...  \n37  Austria has decided to redeem six years early ...  \n38  Pakistan's foreign exchange reserves fell to 8...  \n39  South Korea's M-2 money supply rose 0.39 pct t...  \n40  The easing of rules governing overseas use of ...  \n41  The easing of rules governing overseas use of ...  \n42  The easing of rules governing overseas use of ...  \n43  Thai coffee exports rose to 22,068 tonnes in 1...  \n44  OPEC countries are all sticking firmly to offi...  \n45  OPEC countries are all sticking firmly to offi...  \n46  OPEC countries are all sticking firmly to offi...  \n47  OPEC countries are all sticking firmly to offi...  \n48  Republicans in Congress hailed President Reaga...  \n49  Republicans in Congress hailed President Reaga...  ",
      "text/html": "<div>\n<style scoped>\n    .dataframe tbody tr th:only-of-type {\n        vertical-align: middle;\n    }\n\n    .dataframe tbody tr th {\n        vertical-align: top;\n    }\n\n    .dataframe thead th {\n        text-align: right;\n    }\n</style>\n<table border=\"1\" class=\"dataframe\">\n  <thead>\n    <tr style=\"text-align: right;\">\n      <th></th>\n      <th>id</th>\n      <th>text</th>\n      <th>entity</th>\n      <th>object</th>\n      <th>relation</th>\n      <th>title</th>\n      <th>context</th>\n    </tr>\n  </thead>\n  <tbody>\n    <tr>\n      <th>0</th>\n      <td>7.0</td>\n      <td>Finance Minister Mark\\nEyskens, who currently ...</td>\n      <td>Minister_Mark_Eyskens</td>\n      <td>issue</td>\n      <td>has_called</td>\n      <td>BELGIAN ECU COIN ISSUE PRICED, SALE DATE SET</td>\n      <td>A limited Belgian issue of silver Ecu coins wi...</td>\n    </tr>\n    <tr>\n      <th>1</th>\n      <td>1.0</td>\n      <td>Bank governor Chang Chi-Cheng told reporters t...</td>\n      <td>governor_Chang_Chi_Cheng</td>\n      <td>reporters</td>\n      <td>told</td>\n      <td>TAIWAN FOREIGN EXCHANGE RESERVES HIT NEW HIGH</td>\n      <td>Taiwan's foreign exchange reserves hit a new h...</td>\n    </tr>\n    <tr>\n      <th>2</th>\n      <td>2.0</td>\n      <td>He said the rise showed signs of slowing, howe...</td>\n      <td>Taiwan</td>\n      <td>import_policy</td>\n      <td>has_liberalised</td>\n      <td>TAIWAN FOREIGN EXCHANGE RESERVES HIT NEW HIGH</td>\n      <td>Taiwan's foreign exchange reserves hit a new h...</td>\n    </tr>\n    <tr>\n      <th>3</th>\n      <td>3.0</td>\n      <td>Chang declined to predict how high the reserve...</td>\n      <td>Chang</td>\n      <td>to_predict_how_high_the_reserves_might_rise</td>\n      <td>declined</td>\n      <td>TAIWAN FOREIGN EXCHANGE RESERVES HIT NEW HIGH</td>\n      <td>Taiwan's foreign exchange reserves hit a new h...</td>\n    </tr>\n    <tr>\n      <th>4</th>\n      <td>4.0</td>\n      <td>In January, Taiwan reduced import tariffs of u...</td>\n      <td>Taiwan</td>\n      <td>import_tariffs</td>\n      <td>reduced</td>\n      <td>TAIWAN FOREIGN EXCHANGE RESERVES HIT NEW HIGH</td>\n      <td>Taiwan's foreign exchange reserves hit a new h...</td>\n    </tr>\n    <tr>\n      <th>5</th>\n      <td>6.0</td>\n      <td>Wang Chang-Ming, Vice Chairman of the Council ...</td>\n      <td>Wang_Chang_Ming</td>\n      <td>Reuters</td>\n      <td>told</td>\n      <td>TAIWAN FOREIGN EXCHANGE RESERVES HIT NEW HIGH</td>\n      <td>Taiwan's foreign exchange reserves hit a new h...</td>\n    </tr>\n    <tr>\n      <th>6</th>\n      <td>1.0</td>\n      <td>Iran launched the new offensive, codenamed Kar...</td>\n      <td>Iran</td>\n      <td>offensive</td>\n      <td>launched</td>\n      <td>IRAN REPORTS HEAVY FIGHTING IN IRAQI KURDISTAN</td>\n      <td>Iran said its troops repulsed heavy Iraqi coun...</td>\n    </tr>\n    <tr>\n      <th>7</th>\n      <td>10.0</td>\n      <td>Iran has backed dissident Kurds in the area in...</td>\n      <td>Iran</td>\n      <td>Kurds</td>\n      <td>has_backed</td>\n      <td>IRAN REPORTS HEAVY FIGHTING IN IRAQI KURDISTAN</td>\n      <td>Iran said its troops repulsed heavy Iraqi coun...</td>\n    </tr>\n    <tr>\n      <th>8</th>\n      <td>12.0</td>\n      <td>The Iraqis have made no comment so far on the ...</td>\n      <td>Iraqis</td>\n      <td>comment</td>\n      <td>have_made</td>\n      <td>IRAN REPORTS HEAVY FIGHTING IN IRAQI KURDISTAN</td>\n      <td>Iran said its troops repulsed heavy Iraqi coun...</td>\n    </tr>\n    <tr>\n      <th>9</th>\n      <td>12.0</td>\n      <td>The Iraqis have made no comment so far on the ...</td>\n      <td>Tehran</td>\n      <td>comment</td>\n      <td>reported</td>\n      <td>IRAN REPORTS HEAVY FIGHTING IN IRAQI KURDISTAN</td>\n      <td>Iran said its troops repulsed heavy Iraqi coun...</td>\n    </tr>\n    <tr>\n      <th>10</th>\n      <td>0.0</td>\n      <td>The Ministry of International Trade and\\nIndus...</td>\n      <td>Ministry</td>\n      <td>export_quota</td>\n      <td>has_not_set</td>\n      <td>JAPANESE MINISTRY DENIES EXPORT QUOTA FOR DAIH...</td>\n      <td>The Ministry of International Trade and Indust...</td>\n    </tr>\n    <tr>\n      <th>11</th>\n      <td>3.0</td>\n      <td>Daihatsu is owned 15.1 pct by Toyota Motor Cor...</td>\n      <td>Daihatsu</td>\n      <td>pct</td>\n      <td>is_owned</td>\n      <td>JAPANESE MINISTRY DENIES EXPORT QUOTA FOR DAIH...</td>\n      <td>The Ministry of International Trade and Indust...</td>\n    </tr>\n    <tr>\n      <th>12</th>\n      <td>0.0</td>\n      <td>The state-owned Minerals and Metals\\nTrading C...</td>\n      <td>Minerals_Metals_Trading_Corp</td>\n      <td>team</td>\n      <td>will_send</td>\n      <td>INDIA AND JAPAN TO DISCUSS IRON ORE PRICES</td>\n      <td>The state-owned Minerals and Metals Trading Co...</td>\n    </tr>\n    <tr>\n      <th>13</th>\n      <td>1.0</td>\n      <td>Japan, the biggest buyer of Indian iron ore wi...</td>\n      <td>Japan</td>\n      <td>India</td>\n      <td>has_asked</td>\n      <td>INDIA AND JAPAN TO DISCUSS IRON ORE PRICES</td>\n      <td>The state-owned Minerals and Metals Trading Co...</td>\n    </tr>\n    <tr>\n      <th>14</th>\n      <td>2.0</td>\n      <td>\"Japan has said it may be forced to reduce ore...</td>\n      <td>New_Delhi</td>\n      <td>to_reduce_the_price</td>\n      <td>fails</td>\n      <td>INDIA AND JAPAN TO DISCUSS IRON ORE PRICES</td>\n      <td>The state-owned Minerals and Metals Trading Co...</td>\n    </tr>\n    <tr>\n      <th>15</th>\n      <td>7.0</td>\n      <td>Banking sources said that although the January...</td>\n      <td>ALP_growth</td>\n      <td>to_have_accelerated_in_February</td>\n      <td>appeared</td>\n      <td>SPAIN RAISES BANKS' RESERVE REQUIREMENT</td>\n      <td>The Bank of Spain said it raised the reserve r...</td>\n    </tr>\n    <tr>\n      <th>16</th>\n      <td>2.0</td>\n      <td>In December, the BLEU had an 11.9 billion fran...</td>\n      <td>BLEU</td>\n      <td>franc_trade_surplus_REUTER</td>\n      <td>had</td>\n      <td>BELGOLUX TRADE MOVES INTO SURPLUS IN 1986</td>\n      <td>The Belgo-Luxembourg Economic Union (BLEU) mov...</td>\n    </tr>\n    <tr>\n      <th>17</th>\n      <td>1.0</td>\n      <td>The\\nBank forecast the shortage in the system ...</td>\n      <td>Bank</td>\n      <td>shortage</td>\n      <td>forecast</td>\n      <td>U.K. MONEY MARKET OFFERED EARLY ASSISTANCE</td>\n      <td>The Bank of England said it invited an early r...</td>\n    </tr>\n    <tr>\n      <th>18</th>\n      <td>0.0</td>\n      <td>Caisse Centrale de Credit Cooperatif is\\nlaunc...</td>\n      <td>Caisse_Centrale_de_Credit_Cooperatif</td>\n      <td>bond_issue_managers_Credit_Lyonnais</td>\n      <td>is_launching</td>\n      <td>CENTRALE DE CREDIT COOPERATIF ISSUE DETAILED</td>\n      <td>Caisse Centrale de Credit Cooperatif is launch...</td>\n    </tr>\n    <tr>\n      <th>19</th>\n      <td>0.0</td>\n      <td>Thailand exported 1,816 tonnes of tin\\nmetal i...</td>\n      <td>Thailand</td>\n      <td>tonnes</td>\n      <td>exported</td>\n      <td>THAI TIN EXPORTS RISE IN JANUARY</td>\n      <td>Thailand exported 1,816 tonnes of tin metal in...</td>\n    </tr>\n    <tr>\n      <th>20</th>\n      <td>0.0</td>\n      <td>The Commonwealth Bank of Australia is\\nissuing...</td>\n      <td>Commonwealth_Bank</td>\n      <td>dlr_eurobond</td>\n      <td>is_issuing</td>\n      <td>COMMONWEALTH BANK OF AUSTRALIA ISSUES NOVEL BOND</td>\n      <td>The Commonwealth Bank of Australia is issuing ...</td>\n    </tr>\n    <tr>\n      <th>21</th>\n      <td>1.0</td>\n      <td>Hawke told a Sydney radio station the deficit ...</td>\n      <td>Hawke</td>\n      <td>Sydney_radio_station</td>\n      <td>told</td>\n      <td>HAWKE SEES FOUR BILLION DLR BUDGET DEFICIT</td>\n      <td>Australian Prime Minister Bob Hawke and Treasu...</td>\n    </tr>\n    <tr>\n      <th>22</th>\n      <td>4.0</td>\n      <td>The officials said that when the Plaza agreeme...</td>\n      <td>Plaza_agreement</td>\n      <td>place</td>\n      <td>took</td>\n      <td>NEW CURRENCY PROBLEM SEEN AMONG U.S, EUROPE, J...</td>\n      <td>The highly visible drama involving the yen's s...</td>\n    </tr>\n    <tr>\n      <th>23</th>\n      <td>22.0</td>\n      <td>EC business also had a remarkable year\\nin Jap...</td>\n      <td>EC_business</td>\n      <td>year</td>\n      <td>had</td>\n      <td>NEW CURRENCY PROBLEM SEEN AMONG U.S, EUROPE, J...</td>\n      <td>The highly visible drama involving the yen's s...</td>\n    </tr>\n    <tr>\n      <th>24</th>\n      <td>0.0</td>\n      <td>Oesterreichische Draukraftwerke AG of\\nKlagenf...</td>\n      <td>Oesterreichische_Draukraftwerke_AG</td>\n      <td>year_bond</td>\n      <td>is_launching</td>\n      <td>OESTERREICHISCHE DRAUKRAFTWERKE SETS SFR BOND</td>\n      <td>Oesterreichische Draukraftwerke AG of Klagenfu...</td>\n    </tr>\n    <tr>\n      <th>25</th>\n      <td>0.0</td>\n      <td>Gunze Sangyo Inc of Tokyo is launching a\\n25 m...</td>\n      <td>Gunze_Sangyo_Inc</td>\n      <td>notes_issue</td>\n      <td>is_launching</td>\n      <td>GUNZE SANGYO SETS 25 MLN SWISS FRANC NOTES ISSUE</td>\n      <td>Gunze Sangyo Inc of Tokyo is launching a 25 ml...</td>\n    </tr>\n    <tr>\n      <th>26</th>\n      <td>0.0</td>\n      <td>McDonalds Corp is raising 75 mln\\nAustralian d...</td>\n      <td>McDonalds_Corp</td>\n      <td>dollars</td>\n      <td>is_raising</td>\n      <td>MCDONALDS LAUNCHES 75 MLN AUS DLR EUROBOND</td>\n      <td>McDonalds Corp is raising 75 mln Australian do...</td>\n    </tr>\n    <tr>\n      <th>27</th>\n      <td>0.0</td>\n      <td>The Bank of Japan will sell tomorrow 500\\nbill...</td>\n      <td>Bank</td>\n      <td>yen</td>\n      <td>will_sell</td>\n      <td>BANK OF JAPAN TO SELL 500 BILLION IN BILLS</td>\n      <td>The Bank of Japan will sell tomorrow 500 billi...</td>\n    </tr>\n    <tr>\n      <th>28</th>\n      <td>3.0</td>\n      <td>The Hughes board objected to a U.S. Department...</td>\n      <td>Baker</td>\n      <td>subsidiaries</td>\n      <td>sell</td>\n      <td>HUGHES TOOL DIRECTORS REJECT MERGER WITH BAKER</td>\n      <td>The directors of Hughes Tool Co &lt;HT&gt; said they...</td>\n    </tr>\n    <tr>\n      <th>29</th>\n      <td>7.0</td>\n      <td>Analysts expect Hang Seng to announce net prof...</td>\n      <td>Hang_Seng</td>\n      <td>profit_increase</td>\n      <td>to_announce</td>\n      <td>HK BANK EXPECTED TO POST 10 TO 13 PCT PROFIT RISE</td>\n      <td>The Hongkong and Shanghai Banking Corp &lt;HKBH.H...</td>\n    </tr>\n    <tr>\n      <th>30</th>\n      <td>8.0</td>\n      <td>They expect Hang Seng to pay a final dividend ...</td>\n      <td>Hang_Seng</td>\n      <td>dividend</td>\n      <td>to_pay</td>\n      <td>HK BANK EXPECTED TO POST 10 TO 13 PCT PROFIT RISE</td>\n      <td>The Hongkong and Shanghai Banking Corp &lt;HKBH.H...</td>\n    </tr>\n    <tr>\n      <th>31</th>\n      <td>20.0</td>\n      <td>\"Wardley had a tremendous year acting as\\nfina...</td>\n      <td>Wardley</td>\n      <td>year</td>\n      <td>had</td>\n      <td>HK BANK EXPECTED TO POST 10 TO 13 PCT PROFIT RISE</td>\n      <td>The Hongkong and Shanghai Banking Corp &lt;HKBH.H...</td>\n    </tr>\n    <tr>\n      <th>32</th>\n      <td>21.0</td>\n      <td>Wardley was underwriter for last year's billio...</td>\n      <td>Hongkong_Bank</td>\n      <td>pct</td>\n      <td>owned</td>\n      <td>HK BANK EXPECTED TO POST 10 TO 13 PCT PROFIT RISE</td>\n      <td>The Hongkong and Shanghai Banking Corp &lt;HKBH.H...</td>\n    </tr>\n    <tr>\n      <th>33</th>\n      <td>3.0</td>\n      <td>BHPGM will pay 440 mln dlrs for BHP's gold int...</td>\n      <td>BHPGM</td>\n      <td>dlrs_interests</td>\n      <td>will_pay</td>\n      <td>BHP TO FLOAT GOLD UNIT WITH ONE-FOR-THREE ISSUE</td>\n      <td>The Broken Hill Pty Co Ltd &lt;BRKN.S&gt; (BHP) said...</td>\n    </tr>\n    <tr>\n      <th>34</th>\n      <td>10.0</td>\n      <td>The statement said BHPGM would also hold BHP's...</td>\n      <td>BHPGM</td>\n      <td>pct_stake</td>\n      <td>would_hold</td>\n      <td>BHP TO FLOAT GOLD UNIT WITH ONE-FOR-THREE ISSUE</td>\n      <td>The Broken Hill Pty Co Ltd &lt;BRKN.S&gt; (BHP) said...</td>\n    </tr>\n    <tr>\n      <th>35</th>\n      <td>0.0</td>\n      <td>New Zealand clearing house &lt;DataBank\\nSystems ...</td>\n      <td>Databank</td>\n      <td>staff</td>\n      <td>remains</td>\n      <td>N. ZEALAND MARKETS PREPARE FOR TRADING BANK ST...</td>\n      <td>New Zealand clearing house &lt;DataBank Systems L...</td>\n    </tr>\n    <tr>\n      <th>36</th>\n      <td>0.0</td>\n      <td>Austria has decided to redeem six years\\nearly...</td>\n      <td>Austria</td>\n      <td>to_redeem_six_years_\\n_early_a_20_billion_yen_...</td>\n      <td>has_decided</td>\n      <td>AUSTRIA DECIDES EARLY REDEMPTION OF SAMURAI BOND</td>\n      <td>Austria has decided to redeem six years early ...</td>\n    </tr>\n    <tr>\n      <th>37</th>\n      <td>1.0</td>\n      <td>It will redeem 18.4 billion yen at 103.00 and ...</td>\n      <td>Daiwa</td>\n      <td>REUTER</td>\n      <td>said</td>\n      <td>AUSTRIA DECIDES EARLY REDEMPTION OF SAMURAI BOND</td>\n      <td>Austria has decided to redeem six years early ...</td>\n    </tr>\n    <tr>\n      <th>38</th>\n      <td>2.0</td>\n      <td>The Federal Bureau of Statistics has not yet r...</td>\n      <td>Federal_Bureau</td>\n      <td>figures</td>\n      <td>has_not_released</td>\n      <td>PAKISTAN'S FOREIGN EXCHANGE RESERVES FALL</td>\n      <td>Pakistan's foreign exchange reserves fell to 8...</td>\n    </tr>\n    <tr>\n      <th>39</th>\n      <td>3.0</td>\n      <td>The\\nFebruary figure marked a year-on-year ris...</td>\n      <td>February_figure</td>\n      <td>rise</td>\n      <td>marked</td>\n      <td>SOUTH KOREAN MONEY SUPPLY RISES IN FEBRUARY</td>\n      <td>South Korea's M-2 money supply rose 0.39 pct t...</td>\n    </tr>\n    <tr>\n      <th>40</th>\n      <td>13.0</td>\n      <td>The Euroyen bonds, once issued, are mostly pic...</td>\n      <td>Euroyen_bonds</td>\n      <td>trust_banks</td>\n      <td>are_picked</td>\n      <td>ECONOMIC SPOTLIGHT - EUROYEN BOND ISSUES INCREASE</td>\n      <td>The easing of rules governing overseas use of ...</td>\n    </tr>\n    <tr>\n      <th>41</th>\n      <td>18.0</td>\n      <td>The Finance Ministry last April shortened the ...</td>\n      <td>Finance_Ministry</td>\n      <td>period</td>\n      <td>shortened</td>\n      <td>ECONOMIC SPOTLIGHT - EUROYEN BOND ISSUES INCREASE</td>\n      <td>The easing of rules governing overseas use of ...</td>\n    </tr>\n    <tr>\n      <th>42</th>\n      <td>28.0</td>\n      <td>Euroyen bonds must now carry a five-year matur...</td>\n      <td>Euroyen_bonds</td>\n      <td>year_maturity</td>\n      <td>must_carry</td>\n      <td>ECONOMIC SPOTLIGHT - EUROYEN BOND ISSUES INCREASE</td>\n      <td>The easing of rules governing overseas use of ...</td>\n    </tr>\n    <tr>\n      <th>43</th>\n      <td>0.0</td>\n      <td>Thai coffee exports rose to 22,068\\ntonnes in ...</td>\n      <td>Customs_Department</td>\n      <td>REUTER</td>\n      <td>said</td>\n      <td>THAI COFFEE EXPORTS RISE IN 1986</td>\n      <td>Thai coffee exports rose to 22,068 tonnes in 1...</td>\n    </tr>\n    <tr>\n      <th>44</th>\n      <td>0.0</td>\n      <td>OPEC countries are all sticking firmly to\\noff...</td>\n      <td>Indonesian_Minister</td>\n      <td>Reuters</td>\n      <td>told</td>\n      <td>OPEC STICKING FIRM ON OFFICIAL PRICES - SUBROTO</td>\n      <td>OPEC countries are all sticking firmly to offi...</td>\n    </tr>\n    <tr>\n      <th>45</th>\n      <td>1.0</td>\n      <td>Subroto, attending a Pacific Energy Cooperatio...</td>\n      <td>Subroto</td>\n      <td>price_changes</td>\n      <td>blamed</td>\n      <td>OPEC STICKING FIRM ON OFFICIAL PRICES - SUBROTO</td>\n      <td>OPEC countries are all sticking firmly to offi...</td>\n    </tr>\n    <tr>\n      <th>46</th>\n      <td>4.0</td>\n      <td>Asked whether OPEC members of the Gulf Coopera...</td>\n      <td>OPEC_members</td>\n      <td>proposals</td>\n      <td>had</td>\n      <td>OPEC STICKING FIRM ON OFFICIAL PRICES - SUBROTO</td>\n      <td>OPEC countries are all sticking firmly to offi...</td>\n    </tr>\n    <tr>\n      <th>47</th>\n      <td>4.0</td>\n      <td>Asked whether OPEC members of the Gulf Coopera...</td>\n      <td>Qatar</td>\n      <td>oil</td>\n      <td>sell</td>\n      <td>OPEC STICKING FIRM ON OFFICIAL PRICES - SUBROTO</td>\n      <td>OPEC countries are all sticking firmly to offi...</td>\n    </tr>\n    <tr>\n      <th>48</th>\n      <td>0.0</td>\n      <td>Republicans in Congress hailed\\nPresident Reag...</td>\n      <td>Republicans</td>\n      <td>speech</td>\n      <td>hailed</td>\n      <td>REAGAN SPEECH WINS MIXED REACTION FROM CONGRESS</td>\n      <td>Republicans in Congress hailed President Reaga...</td>\n    </tr>\n    <tr>\n      <th>49</th>\n      <td>0.0</td>\n      <td>Republicans in Congress hailed\\nPresident Reag...</td>\n      <td>Reagan</td>\n      <td>to_match_his_words_with_action</td>\n      <td>would_have</td>\n      <td>REAGAN SPEECH WINS MIXED REACTION FROM CONGRESS</td>\n      <td>Republicans in Congress hailed President Reaga...</td>\n    </tr>\n  </tbody>\n</table>\n</div>"
     },
     "execution_count": 60,
     "metadata": {},
     "output_type": "execute_result"
    }
   ],
   "source": [
    "final_df.head(50)"
   ]
  },
  {
   "cell_type": "code",
   "execution_count": 61,
   "outputs": [
    {
     "data": {
      "text/plain": "'A limited Belgian issue of silver Ecu coins with a face value of five Ecus will go on sale from March 23 at a price of 500 Belgian francs each, a Finance Ministry spokesman said. Gold Ecu coins with a face value of 50 Ecus will be sold from the same day. The spokesman told Reuters the price for these would be fixed just before they go on sale but was likely to be between 8,500 and 9,000 francs. At least two mln silver coins and several hundreds of thousands of the gold coins will be minted, he said. They will be sold both in Belgium and abroad. The coins will be the first ever denominated in the Ecu, the \"basket\" comprised of the 12-nation European Community\\'s currencies except the Spanish peseta and the Portuguese escudo. The issue is being made to mark the 30th anniversary of the EC\\'s founding Treaty of Rome this month. Finance Minister Mark Eyskens, who currently presides over the EC\\'s council of economic and finance ministers, has called the issue a political act of symbolic value which aimed to make the Community\\'s goal of monetary integration more concrete. The coins will be legal tender in Belgium but most demand is expected to come from coin collectors. REUTER'"
     },
     "execution_count": 61,
     "metadata": {},
     "output_type": "execute_result"
    }
   ],
   "source": [
    "final_df.iloc[0][\"context\"]"
   ],
   "metadata": {
    "collapsed": false,
    "ExecuteTime": {
     "end_time": "2024-03-02T22:20:00.174941823Z",
     "start_time": "2024-03-02T22:20:00.162860867Z"
    }
   }
  },
  {
   "cell_type": "code",
   "execution_count": 20,
   "metadata": {
    "collapsed": false,
    "ExecuteTime": {
     "end_time": "2024-03-02T22:13:10.426176740Z",
     "start_time": "2024-03-02T22:13:09.154878558Z"
    }
   },
   "outputs": [],
   "source": [
    "nlp = spacy.load(\"en_core_web_lg\")"
   ]
  },
  {
   "cell_type": "code",
   "execution_count": 21,
   "metadata": {
    "collapsed": false,
    "ExecuteTime": {
     "end_time": "2024-03-02T22:14:09.115020308Z",
     "start_time": "2024-03-02T22:13:10.430698603Z"
    }
   },
   "outputs": [],
   "source": [
    "noun_indexes = []\n",
    "new_objs = []\n",
    "for index, row in final_df.iterrows():\n",
    "    cleaned = [c for c in row[\"object\"].split(\"_\") if c not in [\"Reuter\", \"Reuters\", \"REUTER\", \"REUTERS\", \"reuter\", \"reuters\"]]\n",
    "    cleaned = \" \".join(cleaned)\n",
    "    doc = nlp(cleaned)\n",
    "    nouns = []\n",
    "    for d in doc:\n",
    "        if d.tag_ in [\"NNP\", \"NNPS\"]:\n",
    "            if index not in noun_indexes:\n",
    "                noun_indexes.append(index)\n",
    "            noun = str(d.text)\n",
    "            if noun not in nouns:\n",
    "                nouns.append(noun)\n",
    "    if nouns:\n",
    "        new_objs.append(\" \".join(nouns))"
   ]
  },
  {
   "cell_type": "code",
   "execution_count": 62,
   "metadata": {
    "collapsed": false,
    "ExecuteTime": {
     "end_time": "2024-03-02T22:20:32.685732064Z",
     "start_time": "2024-03-02T22:20:32.644010404Z"
    }
   },
   "outputs": [],
   "source": [
    "clean_df = final_df[final_df.index.isin(noun_indexes)]"
   ]
  },
  {
   "cell_type": "code",
   "execution_count": 63,
   "metadata": {
    "ExecuteTime": {
     "end_time": "2024-03-02T22:20:33.075336342Z",
     "start_time": "2024-03-02T22:20:32.925608446Z"
    }
   },
   "outputs": [],
   "source": [
    "clean_entities = []\n",
    "\n",
    "for index, row in clean_df.iterrows():\n",
    "    cleaned = \" \".join([x for x in row[\"entity\"].split(\"_\") if x not in [\"Reuter\", \"Reuters\", \"REUTER\", \"REUTERS\", \"reuter\", \"reuters\"] ])\n",
    "    clean_entities.append(cleaned)"
   ]
  },
  {
   "cell_type": "code",
   "execution_count": 64,
   "metadata": {
    "ExecuteTime": {
     "end_time": "2024-03-02T22:20:33.237156844Z",
     "start_time": "2024-03-02T22:20:33.233657353Z"
    }
   },
   "outputs": [
    {
     "data": {
      "text/plain": "4196"
     },
     "execution_count": 64,
     "metadata": {},
     "output_type": "execute_result"
    }
   ],
   "source": [
    "len(noun_indexes)"
   ]
  },
  {
   "cell_type": "code",
   "execution_count": 65,
   "metadata": {
    "collapsed": false,
    "ExecuteTime": {
     "end_time": "2024-03-02T22:20:33.532933605Z",
     "start_time": "2024-03-02T22:20:33.530832524Z"
    }
   },
   "outputs": [
    {
     "name": "stderr",
     "output_type": "stream",
     "text": [
      "/tmp/ipykernel_58723/3223740866.py:1: SettingWithCopyWarning: \n",
      "A value is trying to be set on a copy of a slice from a DataFrame.\n",
      "Try using .loc[row_indexer,col_indexer] = value instead\n",
      "\n",
      "See the caveats in the documentation: https://pandas.pydata.org/pandas-docs/stable/user_guide/indexing.html#returning-a-view-versus-a-copy\n",
      "  clean_df[\"clean_entities\"] = clean_entities\n"
     ]
    }
   ],
   "source": [
    "clean_df[\"clean_entities\"] = clean_entities"
   ]
  },
  {
   "cell_type": "code",
   "execution_count": 66,
   "outputs": [
    {
     "data": {
      "text/plain": "4050"
     },
     "execution_count": 66,
     "metadata": {},
     "output_type": "execute_result"
    }
   ],
   "source": [
    "len(clean_df.drop_duplicates())"
   ],
   "metadata": {
    "collapsed": false,
    "ExecuteTime": {
     "end_time": "2024-03-02T22:20:34.073881837Z",
     "start_time": "2024-03-02T22:20:34.046008613Z"
    }
   }
  },
  {
   "cell_type": "code",
   "execution_count": 67,
   "metadata": {
    "collapsed": false,
    "ExecuteTime": {
     "end_time": "2024-03-02T22:20:34.359186911Z",
     "start_time": "2024-03-02T22:20:34.348306517Z"
    }
   },
   "outputs": [
    {
     "name": "stderr",
     "output_type": "stream",
     "text": [
      "/tmp/ipykernel_58723/2790167468.py:1: SettingWithCopyWarning: \n",
      "A value is trying to be set on a copy of a slice from a DataFrame.\n",
      "Try using .loc[row_indexer,col_indexer] = value instead\n",
      "\n",
      "See the caveats in the documentation: https://pandas.pydata.org/pandas-docs/stable/user_guide/indexing.html#returning-a-view-versus-a-copy\n",
      "  clean_df[\"object_noun\"] = new_objs\n"
     ]
    }
   ],
   "source": [
    "clean_df[\"object_noun\"] = new_objs"
   ]
  },
  {
   "cell_type": "code",
   "execution_count": 68,
   "outputs": [
    {
     "name": "stderr",
     "output_type": "stream",
     "text": [
      "/tmp/ipykernel_58723/447134457.py:1: SettingWithCopyWarning: \n",
      "A value is trying to be set on a copy of a slice from a DataFrame\n",
      "\n",
      "See the caveats in the documentation: https://pandas.pydata.org/pandas-docs/stable/user_guide/indexing.html#returning-a-view-versus-a-copy\n",
      "  clean_df.drop_duplicates(inplace=True)\n"
     ]
    }
   ],
   "source": [
    "clean_df.drop_duplicates(inplace=True)"
   ],
   "metadata": {
    "collapsed": false,
    "ExecuteTime": {
     "end_time": "2024-03-02T22:20:34.719284164Z",
     "start_time": "2024-03-02T22:20:34.688021798Z"
    }
   }
  },
  {
   "cell_type": "markdown",
   "source": [
    "\"\"\"def change_verb_tense(pair, new_tense):\n",
    "    try:\n",
    "        verb = pair.split(\"_\")[-1]\n",
    "        assert new_tense in [\"past\", \"present\", \"future\"]\n",
    "        json_obj = {\"verb\": verb, \"tense\": new_tense}\n",
    "\n",
    "        url = \"http://localhost:5600/change\" \n",
    "    \n",
    "        res = requests.post(url, json=json_obj)\n",
    "        new_verb = res.json()\n",
    "    except AssertionError:\n",
    "        print(f\"Tense is 'past', 'present' or 'future'\\nYou entered: {new_tense}\")\n",
    "        new_verb = None \n",
    "    except:\n",
    "        new_verb = \"error\"\n",
    "    return new_verb\n",
    "\"\"\"\n",
    "\n",
    "def change_verb_tense(word, new_tense):\n",
    "\n",
    "    try:\n",
    "        conjugated_word = conjugate(\"walked\", new_tense)\n",
    "    except:\n",
    "        conjugated_word = word\n",
    "    return conjugated_word\n",
    "\n"
   ],
   "metadata": {
    "collapsed": false
   }
  },
  {
   "cell_type": "code",
   "execution_count": 69,
   "metadata": {
    "ExecuteTime": {
     "end_time": "2024-03-02T22:21:01.707636899Z",
     "start_time": "2024-03-02T22:20:36.525615584Z"
    }
   },
   "outputs": [],
   "source": [
    "past_verb_obj = []\n",
    "missed = []\n",
    "for index, row in clean_df.iterrows():\n",
    "    verbs =  row[\"relation\"].split(\"_\")\n",
    "    new_verb = None\n",
    "    if len(verbs) > 1:\n",
    "        for v in verbs:\n",
    "            lemma = nlp(v)[0].lemma_\n",
    "            if nlp(lemma)[0].pos_:\n",
    "                new_verb = lemma\n",
    "            else:\n",
    "                continue\n",
    "    else:\n",
    "        new_verb = nlp(row[\"relation\"])[0].lemma_\n",
    "    if new_verb:\n",
    "        past_verb_obj.append(new_verb)\n",
    "    else:\n",
    "        past_verb_obj.append(\"error\")\n",
    "        missed.append(index)"
   ]
  },
  {
   "cell_type": "code",
   "execution_count": 70,
   "outputs": [
    {
     "data": {
      "text/plain": "['back',\n 'ask',\n 'appear',\n 'have',\n 'launch',\n 'issue',\n 'tell',\n 'hold',\n 'decide',\n 'hail']"
     },
     "execution_count": 70,
     "metadata": {},
     "output_type": "execute_result"
    }
   ],
   "source": [
    "past_verb_obj[0:10]"
   ],
   "metadata": {
    "collapsed": false,
    "ExecuteTime": {
     "end_time": "2024-03-02T22:21:01.770378590Z",
     "start_time": "2024-03-02T22:21:01.752189831Z"
    }
   }
  },
  {
   "cell_type": "code",
   "execution_count": 71,
   "outputs": [
    {
     "name": "stderr",
     "output_type": "stream",
     "text": [
      "/tmp/ipykernel_58723/1509290200.py:2: SettingWithCopyWarning: \n",
      "A value is trying to be set on a copy of a slice from a DataFrame.\n",
      "Try using .loc[row_indexer,col_indexer] = value instead\n",
      "\n",
      "See the caveats in the documentation: https://pandas.pydata.org/pandas-docs/stable/user_guide/indexing.html#returning-a-view-versus-a-copy\n",
      "  clean_df[\"relation_past\"] = past_verb_obj\n"
     ]
    }
   ],
   "source": [
    "#from pattern3.en import conjugate, PAST, PRESENT, SINGULAR, PLURAL, FUTURE\n",
    "clean_df[\"relation_past\"] = past_verb_obj"
   ],
   "metadata": {
    "collapsed": false,
    "ExecuteTime": {
     "end_time": "2024-03-02T22:21:01.770690810Z",
     "start_time": "2024-03-02T22:21:01.752488851Z"
    }
   }
  },
  {
   "cell_type": "code",
   "execution_count": 72,
   "outputs": [
    {
     "data": {
      "text/plain": "      id                                               text  \\\n7   10.0  Iran has backed dissident Kurds in the area in...   \n13   1.0  Japan, the biggest buyer of Indian iron ore wi...   \n15   7.0  Banking sources said that although the January...   \n16   2.0  In December, the BLEU had an 11.9 billion fran...   \n18   0.0  Caisse Centrale de Credit Cooperatif is\\nlaunc...   \n\n                                  entity                               object  \\\n7                                   Iran                                Kurds   \n13                                 Japan                                India   \n15                            ALP_growth      to_have_accelerated_in_February   \n16                                  BLEU           franc_trade_surplus_REUTER   \n18  Caisse_Centrale_de_Credit_Cooperatif  bond_issue_managers_Credit_Lyonnais   \n\n        relation                                           title  \\\n7     has_backed  IRAN REPORTS HEAVY FIGHTING IN IRAQI KURDISTAN   \n13     has_asked      INDIA AND JAPAN TO DISCUSS IRON ORE PRICES   \n15      appeared         SPAIN RAISES BANKS' RESERVE REQUIREMENT   \n16           had       BELGOLUX TRADE MOVES INTO SURPLUS IN 1986   \n18  is_launching    CENTRALE DE CREDIT COOPERATIF ISSUE DETAILED   \n\n                                              context  \\\n7   Iran said its troops repulsed heavy Iraqi coun...   \n13  The state-owned Minerals and Metals Trading Co...   \n15  The Bank of Spain said it raised the reserve r...   \n16  The Belgo-Luxembourg Economic Union (BLEU) mov...   \n18  Caisse Centrale de Credit Cooperatif is launch...   \n\n                          clean_entities      object_noun relation_past  \n7                                   Iran            Kurds          back  \n13                                 Japan            India           ask  \n15                            ALP growth         February        appear  \n16                                  BLEU            franc          have  \n18  Caisse Centrale de Credit Cooperatif  Credit Lyonnais        launch  ",
      "text/html": "<div>\n<style scoped>\n    .dataframe tbody tr th:only-of-type {\n        vertical-align: middle;\n    }\n\n    .dataframe tbody tr th {\n        vertical-align: top;\n    }\n\n    .dataframe thead th {\n        text-align: right;\n    }\n</style>\n<table border=\"1\" class=\"dataframe\">\n  <thead>\n    <tr style=\"text-align: right;\">\n      <th></th>\n      <th>id</th>\n      <th>text</th>\n      <th>entity</th>\n      <th>object</th>\n      <th>relation</th>\n      <th>title</th>\n      <th>context</th>\n      <th>clean_entities</th>\n      <th>object_noun</th>\n      <th>relation_past</th>\n    </tr>\n  </thead>\n  <tbody>\n    <tr>\n      <th>7</th>\n      <td>10.0</td>\n      <td>Iran has backed dissident Kurds in the area in...</td>\n      <td>Iran</td>\n      <td>Kurds</td>\n      <td>has_backed</td>\n      <td>IRAN REPORTS HEAVY FIGHTING IN IRAQI KURDISTAN</td>\n      <td>Iran said its troops repulsed heavy Iraqi coun...</td>\n      <td>Iran</td>\n      <td>Kurds</td>\n      <td>back</td>\n    </tr>\n    <tr>\n      <th>13</th>\n      <td>1.0</td>\n      <td>Japan, the biggest buyer of Indian iron ore wi...</td>\n      <td>Japan</td>\n      <td>India</td>\n      <td>has_asked</td>\n      <td>INDIA AND JAPAN TO DISCUSS IRON ORE PRICES</td>\n      <td>The state-owned Minerals and Metals Trading Co...</td>\n      <td>Japan</td>\n      <td>India</td>\n      <td>ask</td>\n    </tr>\n    <tr>\n      <th>15</th>\n      <td>7.0</td>\n      <td>Banking sources said that although the January...</td>\n      <td>ALP_growth</td>\n      <td>to_have_accelerated_in_February</td>\n      <td>appeared</td>\n      <td>SPAIN RAISES BANKS' RESERVE REQUIREMENT</td>\n      <td>The Bank of Spain said it raised the reserve r...</td>\n      <td>ALP growth</td>\n      <td>February</td>\n      <td>appear</td>\n    </tr>\n    <tr>\n      <th>16</th>\n      <td>2.0</td>\n      <td>In December, the BLEU had an 11.9 billion fran...</td>\n      <td>BLEU</td>\n      <td>franc_trade_surplus_REUTER</td>\n      <td>had</td>\n      <td>BELGOLUX TRADE MOVES INTO SURPLUS IN 1986</td>\n      <td>The Belgo-Luxembourg Economic Union (BLEU) mov...</td>\n      <td>BLEU</td>\n      <td>franc</td>\n      <td>have</td>\n    </tr>\n    <tr>\n      <th>18</th>\n      <td>0.0</td>\n      <td>Caisse Centrale de Credit Cooperatif is\\nlaunc...</td>\n      <td>Caisse_Centrale_de_Credit_Cooperatif</td>\n      <td>bond_issue_managers_Credit_Lyonnais</td>\n      <td>is_launching</td>\n      <td>CENTRALE DE CREDIT COOPERATIF ISSUE DETAILED</td>\n      <td>Caisse Centrale de Credit Cooperatif is launch...</td>\n      <td>Caisse Centrale de Credit Cooperatif</td>\n      <td>Credit Lyonnais</td>\n      <td>launch</td>\n    </tr>\n  </tbody>\n</table>\n</div>"
     },
     "execution_count": 72,
     "metadata": {},
     "output_type": "execute_result"
    }
   ],
   "source": [
    "clean_df.head()"
   ],
   "metadata": {
    "collapsed": false,
    "ExecuteTime": {
     "end_time": "2024-03-02T22:21:01.770954380Z",
     "start_time": "2024-03-02T22:21:01.752716582Z"
    }
   }
  },
  {
   "cell_type": "code",
   "execution_count": 73,
   "metadata": {
    "ExecuteTime": {
     "end_time": "2024-03-02T22:21:01.771098761Z",
     "start_time": "2024-03-02T22:21:01.753065772Z"
    }
   },
   "outputs": [],
   "source": [
    "clean_df = clean_df[clean_df['relation_past'] != \"error\"]"
   ]
  },
  {
   "cell_type": "code",
   "execution_count": 74,
   "metadata": {
    "collapsed": false,
    "ExecuteTime": {
     "end_time": "2024-03-02T22:21:01.771232741Z",
     "start_time": "2024-03-02T22:21:01.753282872Z"
    }
   },
   "outputs": [],
   "source": [
    "clean_df['relation_past'] = [\"pay\" if x == \"paid\" else x for x in clean_df[\"relation_past\"]]"
   ]
  },
  {
   "cell_type": "code",
   "execution_count": 75,
   "metadata": {
    "ExecuteTime": {
     "end_time": "2024-03-02T22:21:01.771374351Z",
     "start_time": "2024-03-02T22:21:01.753494732Z"
    }
   },
   "outputs": [],
   "source": [
    "clean_df['relation_past'] = [\"rumor\" if x == \"rumore\" else x for x in clean_df[\"relation_past\"]]"
   ]
  },
  {
   "cell_type": "code",
   "execution_count": 76,
   "metadata": {
    "collapsed": false,
    "ExecuteTime": {
     "end_time": "2024-03-02T22:21:01.771507641Z",
     "start_time": "2024-03-02T22:21:01.753702662Z"
    }
   },
   "outputs": [],
   "source": [
    "#change_verb_tense(\"ended\", \"future\")"
   ]
  },
  {
   "cell_type": "code",
   "execution_count": 77,
   "outputs": [],
   "source": [
    "verb_wh_pairs  = pd.read_csv(\"../data/future_token_counts.csv\", index_col=False)"
   ],
   "metadata": {
    "collapsed": false,
    "ExecuteTime": {
     "end_time": "2024-03-02T22:21:01.771645081Z",
     "start_time": "2024-03-02T22:21:01.753892542Z"
    }
   }
  },
  {
   "cell_type": "code",
   "execution_count": 78,
   "outputs": [],
   "source": [
    "verb_wh_pairs[\"token\"] = [x.strip() for x in verb_wh_pairs[\"token\"]]"
   ],
   "metadata": {
    "collapsed": false,
    "ExecuteTime": {
     "end_time": "2024-03-02T22:21:01.771799391Z",
     "start_time": "2024-03-02T22:21:01.755812443Z"
    }
   }
  },
  {
   "cell_type": "code",
   "execution_count": 79,
   "outputs": [],
   "source": [
    "verb_wh_pairs = verb_wh_pairs[verb_wh_pairs[\"token\"] != \"remove\"]"
   ],
   "metadata": {
    "collapsed": false,
    "ExecuteTime": {
     "end_time": "2024-03-02T22:21:01.771968051Z",
     "start_time": "2024-03-02T22:21:01.759790226Z"
    }
   }
  },
  {
   "cell_type": "code",
   "execution_count": 80,
   "outputs": [
    {
     "data": {
      "text/plain": "510"
     },
     "execution_count": 80,
     "metadata": {},
     "output_type": "execute_result"
    }
   ],
   "source": [
    "len(verb_wh_pairs)"
   ],
   "metadata": {
    "collapsed": false,
    "ExecuteTime": {
     "end_time": "2024-03-02T22:21:01.772226941Z",
     "start_time": "2024-03-02T22:21:01.762906017Z"
    }
   }
  },
  {
   "cell_type": "code",
   "execution_count": 81,
   "metadata": {
    "ExecuteTime": {
     "end_time": "2024-03-02T22:21:01.835479403Z",
     "start_time": "2024-03-02T22:21:01.766570589Z"
    }
   },
   "outputs": [],
   "source": [
    "wh_lookup = {k[0]:k[1] for k in verb_wh_pairs[[\"token\", \"wh\"]].values}"
   ]
  },
  {
   "cell_type": "code",
   "execution_count": 82,
   "metadata": {
    "ExecuteTime": {
     "end_time": "2024-03-02T22:21:01.882035127Z",
     "start_time": "2024-03-02T22:21:01.812208582Z"
    }
   },
   "outputs": [
    {
     "data": {
      "text/plain": "'when'"
     },
     "execution_count": 82,
     "metadata": {},
     "output_type": "execute_result"
    }
   ],
   "source": [
    "wh_lookup['appear']"
   ]
  },
  {
   "cell_type": "code",
   "execution_count": 235,
   "metadata": {
    "ExecuteTime": {
     "end_time": "2024-03-02T23:17:57.814014356Z",
     "start_time": "2024-03-02T23:17:57.767136872Z"
    }
   },
   "outputs": [],
   "source": [
    "import re\n",
    "\n",
    "\n",
    "def get_index_of_punc(text):\n",
    "    #pat = r'[.?\\-,:]+'\n",
    "    pat = r'[.?;]+'\n",
    "    res = re.findall(pat, text)\n",
    "    if res and len(res) != 0:\n",
    "        punc = res[0]\n",
    "    elif res:\n",
    "        punc = res\n",
    "    else:\n",
    "        raise ValueError\n",
    "    stop_index = text.index(punc)\n",
    "    return stop_index\n",
    "\n",
    "def get_short_answer_text(text, start_index):\n",
    "    start_token = text.split(\" \")[start_index]\n",
    "    string_start_index = text.index(start_token)\n",
    "    chnk1 =  text[string_start_index:]\n",
    "\n",
    "    stop_index = get_index_of_punc(chnk1)\n",
    "    short_answer = chnk1[0:stop_index+1]\n",
    "    return short_answer\n",
    "\n",
    "def get_relation_action(text, rel):\n",
    "    try:\n",
    "        r_value = rel.split(\"_\")[-1]\n",
    "        t_list = text.split(\" \")\n",
    "        t_index = t_list.index(r_value)+1\n",
    "        action = get_short_answer_text(text, t_index)\n",
    "    except ValueError:\n",
    "\n",
    "        r_value = rel.split(\"_\")[-1]\n",
    "        relation_stemmed = nlp(r_value)[0].lemma_\n",
    "\n",
    "        t_list = text.replace(\"\\n\", \" \").split(\" \")\n",
    "        t_index = t_list.index(relation_stemmed)+1\n",
    "        action = get_short_answer_text(text, t_index)\n",
    "\n",
    "    return t_index, action. \\\n",
    "    replace(\"\\n\", \" \"). \\\n",
    "        strip()\n",
    "\n",
    "\n",
    "\n",
    "def build_text(text, rel, ent):\n",
    "    _, action = get_relation_action(text, rel)\n",
    "    return f\"{' '.join(ent.split('_'))} {' '.join(rel.split('_'))} {action}\".strip()\n",
    "\n",
    "def build_answer(text, rel, obj, ent):\n",
    "    action = get_relation_action(text.replace(\"\\n\", \" \"), rel)\n",
    "    action = action\\\n",
    "        .replace(obj, \" \")\\\n",
    "        .strip()\\\n",
    "        .replace(\"\\n\", \" \")\\\n",
    "        .replace(\"...\", \"\")\n",
    "    for ent in ent.split(\"_\"):\n",
    "        action = action.replace(ent, \" \")\n",
    "    print(f\"{action}\")\n",
    "\n",
    "def build_question(wh, relation, obj, ent):\n",
    "    ent = \" \".join(ent.split(\"_\"))\n",
    "    obj = \" \".join(obj.split(\"_\"))\n",
    "\n",
    "    if wh:\n",
    "        q = f\"{wh.capitalize()} did {ent} {relation}?\"\n",
    "    else:\n",
    "        relation_stemmed = nlp(relation)[0].lemma_\n",
    "        try:\n",
    "            wh = wh_lookup.get(relation_stemmed)\n",
    "            q = f\"{wh.capitalize()} did {ent} {relation_stemmed}?\"\n",
    "        except AttributeError:\n",
    "            q = f\"What did {ent} {relation_stemmed}?\"\n",
    "\n",
    "    return q\n"
   ]
  },
  {
   "cell_type": "code",
   "execution_count": 236,
   "metadata": {
    "ExecuteTime": {
     "end_time": "2024-03-02T23:17:57.948491234Z",
     "start_time": "2024-03-02T23:17:57.940407600Z"
    }
   },
   "outputs": [],
   "source": [
    "text = clean_df.iloc[500][\"text\"]\n",
    "relation = clean_df.iloc[500][\"relation\"]\n",
    "entity = clean_df.iloc[500][\"entity\"]\n",
    "\n",
    "ind, a = get_relation_action(text, relation)"
   ]
  },
  {
   "cell_type": "code",
   "execution_count": 237,
   "metadata": {
    "ExecuteTime": {
     "end_time": "2024-03-02T23:17:58.224980286Z",
     "start_time": "2024-03-02T23:17:58.198676712Z"
    }
   },
   "outputs": [
    {
     "data": {
      "text/plain": "'IMF team urges Belgium to adopt a firm interest rate policy, with a particular emphasis on long-term rates.'"
     },
     "execution_count": 237,
     "metadata": {},
     "output_type": "execute_result"
    }
   ],
   "source": [
    "build_text(text, relation, entity)"
   ]
  },
  {
   "cell_type": "code",
   "execution_count": 238,
   "metadata": {
    "ExecuteTime": {
     "end_time": "2024-03-02T23:18:00.355444032Z",
     "start_time": "2024-03-02T23:17:58.460434775Z"
    }
   },
   "outputs": [
    {
     "name": "stdout",
     "output_type": "stream",
     "text": [
      "Error:\n",
      "'end' is not in list\n",
      "ended\n",
      "830\n",
      "Error:\n",
      "'manage' is not in list\n",
      "managed\n",
      "1025\n",
      "Error:\n",
      "'comprise' is not in list\n",
      "comprising\n",
      "1151\n",
      "Error:\n",
      "'add' is not in list\n",
      "will_add\n",
      "1871\n",
      "Error:\n",
      "'end' is not in list\n",
      "ends\n",
      "2239\n",
      "Error:\n",
      "'end' is not in list\n",
      "ends\n",
      "2701\n",
      "Error:\n",
      "'fire' is not in list\n",
      "fired\n",
      "2734\n",
      "Error:\n",
      "'include' is not in list\n",
      "includes\n",
      "3845\n",
      "Error:\n",
      "'end' is not in list\n",
      "ends\n",
      "4058\n",
      "Error:\n",
      "'say' is not in list\n",
      "said\n",
      "5757\n",
      "Error:\n",
      "'end' is not in list\n",
      "ends\n",
      "6353\n",
      "Error:\n",
      "\n",
      "exclude\n",
      "6434\n",
      "Error:\n",
      "'refuse' is not in list\n",
      "refused\n",
      "9289\n",
      "Error:\n",
      "'end' is not in list\n",
      "ends\n",
      "6491\n",
      "Error:\n",
      "'schedule' is not in list\n",
      "is_scheduled\n",
      "7494\n",
      "Error:\n",
      "'bag' is not in list\n",
      "bagged\n",
      "7611\n",
      "Error:\n",
      "'offer' is not in list\n",
      "offers\n",
      "19452\n",
      "Error:\n",
      "'resign' is not in list\n",
      "resigned\n",
      "8599\n",
      "Error:\n",
      "'end' is not in list\n",
      "ends\n",
      "10866\n",
      "Error:\n",
      "'say' is not in list\n",
      "said\n",
      "11874\n",
      "Error:\n",
      "'end' is not in list\n",
      "ends\n",
      "12599\n",
      "Error:\n",
      "'offer' is not in list\n",
      "offered\n",
      "13223\n",
      "Error:\n",
      "'consider' is not in list\n",
      "would_consider\n",
      "13848\n",
      "Error:\n",
      "'comment' is not in list\n",
      "commented\n",
      "13873\n",
      "Error:\n",
      "'accept' is not in list\n",
      "had_accepted\n",
      "13916\n",
      "Error:\n",
      "'end' is not in list\n",
      "ends\n",
      "14898\n",
      "Error:\n",
      "'report' is not in list\n",
      "reported\n",
      "14992\n",
      "Error:\n",
      "'provide' is not in list\n",
      "has_provided\n",
      "15377\n",
      "Error:\n",
      "'remove' is not in list\n",
      "will_remove\n",
      "17428\n",
      "Error:\n",
      "'authorize' is not in list\n",
      "has_authorized\n",
      "17210\n",
      "Error:\n",
      "'sell' is not in list\n",
      "will_sell\n",
      "17404\n",
      "Error:\n",
      "'say' is not in list\n",
      "said\n",
      "17409\n",
      "Error:\n",
      "'end' is not in list\n",
      "ends\n",
      "18413\n",
      "Error:\n",
      "'end' is not in list\n",
      "ends\n",
      "18443\n",
      "Error:\n",
      "'resign' is not in list\n",
      "has_resigned\n",
      "18918\n",
      "Error:\n",
      "'end' is not in list\n",
      "ended\n",
      "19020\n",
      "Error:\n",
      "'receive' is not in list\n",
      "has_received\n",
      "19231\n",
      "Error:\n",
      "'expect' is not in list\n",
      "is_expected\n",
      "19437\n",
      "Error:\n",
      "'lead' is not in list\n",
      "is_leading\n",
      "19442\n"
     ]
    }
   ],
   "source": [
    "paragraphs = []\n",
    "qas = []\n",
    "questions = []\n",
    "TEMPLATE = {\"title\": \"this is a title\",\n",
    "            \"paragraphs\": [\n",
    "                {\"qas\": [],\n",
    "                 \"context\": \"dfs\"}]}\n",
    "data = []\n",
    "error_count = 0\n",
    "error_indices = []\n",
    "for title in clean_df[\"title\"].unique():\n",
    "    \n",
    "    template = TEMPLATE\n",
    "    template[\"title\"] = title\n",
    "    qas = []\n",
    "    for index, row in clean_df[clean_df[\"title\"] == title].iterrows():\n",
    "        wh = wh_lookup.get(row[\"relation_past\"])\n",
    "        text = row[\"context\"]\n",
    "        clean_relation = row[\"relation_past\"]\n",
    "        relation = row[\"relation\"]\n",
    "        obj = row[\"object\"]\n",
    "        clean_obj = row[\"object_noun\"]\n",
    "        clean_entity = row[\"clean_entities\"]\n",
    "        entity = row[\"entity\"]\n",
    "\n",
    "        try:\n",
    "            q_text = build_text(text, relation, entity)\n",
    "            assert(obj != clean_entity)\n",
    "            q = build_question(wh, clean_relation, clean_obj, clean_entity)\n",
    "        except AssertionError:\n",
    "            print(\"Assertion error build text\")\n",
    "            q = \"AssertionError\"\n",
    "        except AttributeError as e:\n",
    "            print(f\"Error:\\n{e}\\n{row['relation_future']}\\n{index}\")\n",
    "            q = \"Error\"\n",
    "        except ValueError as e:\n",
    "            print(f\"Error:\\n{e}\\n{row['relation']}\\n{index}\")\n",
    "            q = \"Error\"\n",
    "\n",
    "        if q not in questions and q not in  [\"Error\", \"AssertionError\"]:\n",
    "            questions.append(q)\n",
    "            answer_start_num, answer = get_relation_action(text, relation)\n",
    "            qa = {\"question\": q,\n",
    "                            \"id\": str(index),\n",
    "                            \"answers\": [{\"text\": q_text, \"answer_start\": answer_start_num}],\n",
    "                            \"is_impossible\": False\n",
    "                            }\n",
    "            qas.append(qa)\n",
    "        else:\n",
    "            #print(f\"{q}\")\n",
    "            continue\n",
    "        qa_dict = {\"qas\": qas, \"context\": text}\n",
    "        paragraphs = [qa_dict]\n",
    "\n",
    "        final_dict = {\"title\": title, \"paragraphs\": paragraphs}\n",
    "        data.append(final_dict)\n"
   ]
  },
  {
   "cell_type": "code",
   "execution_count": 245,
   "outputs": [
    {
     "data": {
      "text/plain": "{'title': 'TAIWAN SHIPBUILDER LOOKS FOR JAPANESE VENTURES',\n 'paragraphs': [{'qas': [{'question': 'What did China Shipbuilding Corp plan?',\n     'id': '65',\n     'answers': [{'text': 'China Shipbuilding Corp plans to seek joint production agreements with Japan and further diversify into ship repairing to try to trim its debts, chairman Louis Lo said.',\n       'answer_start': 7}],\n     'is_impossible': False}],\n   'context': 'Taiwan\\'s state-owned China Shipbuilding Corp (CSBC) plans to seek joint production agreements with Japan and further diversify into ship repairing to try to trim its debts, chairman Louis Lo said. He told Reuters in an interview that CSBC\\'s first joint production venture, to build two hulls for <Onomichi Dockyard Co Ltd>, was a success. Talks on similar projects have been held with other Japanese firms, including Mitsubishi Heavy Industries Co Ltd <MITH.T> and Ishikawajima-Harima Heavy Industries Co Ltd <JIMA.T>, he said. Lo said CSBC delivered the hulls of two 2,200-TEU (twenty foot equivalent unit) container ships this year to Onomichi, which would complete production. \"We expect the successful cooperation between us and Onomichi will pave the way for further cooperation with other Japanese shipbuilders in the future,\" Lo said. He said Japanese firms would gain from the lower cost of shipbuilding in Taiwan while CSBC would benefit from Japanese technology and marketing. This would pose a challenge to competitors in Europe and South Korea. Lo said CSBC has made losses of about 100 mln U.S. Dlrs since beginning operations in 1975. Its total debt now stands at about 500 mln dlrs, with annual interest payments of nearly three mln dlrs. But he said the company, which is Taiwan\\'s largest shipbuilder, still has full government support and had begun diversifying into ship repairing and manufacture of pipes and other machinery. \"We hope we can survive and prosper through diversification,\" he said. Lo said income from ship repairing almost doubled to 20 mln U.S. Dlrs in the year ended June 1986 compared with the previous financial year. He estimated income would rise to more than 25 mln dlrs in 1986/87. CSBC has orders to build 10 ships totalling 460,000 dead weight tons (dwt) this financial year, compared with 11 ships of 462,000 dwt in 1985/86, he said. Lo said the prospects for shipbuilding were gloomy at least until 1991 due to overtonnage, but the outlook for ship repairing was bright. REUTER'}]}"
     },
     "execution_count": 245,
     "metadata": {},
     "output_type": "execute_result"
    }
   ],
   "source": [
    "data[13]"
   ],
   "metadata": {
    "collapsed": false,
    "ExecuteTime": {
     "end_time": "2024-03-02T23:19:29.980479273Z",
     "start_time": "2024-03-02T23:19:29.935703021Z"
    }
   }
  },
  {
   "cell_type": "code",
   "execution_count": 246,
   "metadata": {
    "ExecuteTime": {
     "end_time": "2024-03-02T23:20:05.372242408Z",
     "start_time": "2024-03-02T23:20:05.322574424Z"
    }
   },
   "outputs": [],
   "source": [
    "with open(\"../data/reuters/reuters_squad_form.json\", \"w\") as f:\n",
    "    d = json.dumps(final_dict)\n",
    "    f.write(d)"
   ]
  },
  {
   "cell_type": "code",
   "execution_count": 247,
   "outputs": [],
   "source": [
    "qa_df = pd.DataFrame({\"question\": questions}, index=range(len(questions)))"
   ],
   "metadata": {
    "collapsed": false,
    "ExecuteTime": {
     "end_time": "2024-03-02T23:20:05.629803969Z",
     "start_time": "2024-03-02T23:20:05.625120235Z"
    }
   }
  },
  {
   "cell_type": "code",
   "execution_count": 248,
   "outputs": [],
   "source": [
    "qa_df.to_json(\"../data/reuters/questions.json\")"
   ],
   "metadata": {
    "collapsed": false,
    "ExecuteTime": {
     "end_time": "2024-03-02T23:20:05.950812410Z",
     "start_time": "2024-03-02T23:20:05.942638916Z"
    }
   }
  }
 ],
 "metadata": {
  "kernelspec": {
   "display_name": "Python 3",
   "language": "python",
   "name": "python3"
  },
  "language_info": {
   "codemirror_mode": {
    "name": "ipython",
    "version": 3
   },
   "file_extension": ".py",
   "mimetype": "text/x-python",
   "name": "python",
   "nbconvert_exporter": "python",
   "pygments_lexer": "ipython3",
   "version": "3.10.10"
  }
 },
 "nbformat": 4,
 "nbformat_minor": 0
}
